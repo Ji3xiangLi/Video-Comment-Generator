{
 "cells": [
  {
   "cell_type": "code",
   "execution_count": 1,
   "id": "dded1e6f",
   "metadata": {},
   "outputs": [],
   "source": [
    "import os\n",
    "import numpy as np\n",
    "import pandas as pd\n",
    "import csv\n",
    "from youtubesearchpython import Transcript, Comments, Video, VideosSearch\n",
    "from tqdm import tqdm\n",
    "COMMENT_PATH = 'InitDataset/comments.csv'\n",
    "TRANSCRIPT_FOLDER = \"InitDataset/Transcripts/\"\n",
    "INFO_PATH = \"InitDataset/infos.csv\"\n",
    "LOG_ERROR_PATH = \"DataCollection/error_log.csv\"\n",
    "LOG_SUCCESS_PATH = \"DataCollection/success_log.csv\""
   ]
  },
  {
   "cell_type": "markdown",
   "id": "5c8aeba8",
   "metadata": {},
   "source": [
    "# 1. Data Collection"
   ]
  },
  {
   "cell_type": "code",
   "execution_count": 2,
   "id": "a3b7081d",
   "metadata": {
    "scrolled": true
   },
   "outputs": [],
   "source": [
    "# 重新搜集\n",
    "error_df = pd.read_csv(LOG_ERROR_PATH)\n",
    "success_df = pd.read_csv(LOG_SUCCESS_PATH)\n",
    "vids = set(error_df.id) | set(success_df.id)"
   ]
  },
  {
   "cell_type": "code",
   "execution_count": 64,
   "id": "b5fa8da1",
   "metadata": {},
   "outputs": [
    {
     "data": {
      "text/plain": [
       "8303"
      ]
     },
     "execution_count": 64,
     "metadata": {},
     "output_type": "execute_result"
    }
   ],
   "source": [
    "# 两轮收完之后，总觉得有点问题 transcript 少了才4k 不对劲\n",
    "vids = set(info_df['vid'])\n",
    "len(vids)"
   ]
  },
  {
   "cell_type": "markdown",
   "id": "1441dc42",
   "metadata": {},
   "source": [
    "## 1.1 Search Video"
   ]
  },
  {
   "cell_type": "code",
   "execution_count": 14,
   "id": "d77abcce",
   "metadata": {},
   "outputs": [],
   "source": [
    "KEYWORDS = ('News', 'Sport','Food', 'Game', 'Fashion', 'Entertainment', 'Tech', 'Education', 'Motivation', 'Vlog', 'Art', 'Music')\n",
    "video_path = 'InitDataset/videos.csv'\n",
    "video_column = ['vid', 'tag']\n",
    "if not os.path.exists(video_path):\n",
    "    with open(info_path, 'a') as f:\n",
    "        writer = csv.DictWriter(f, fieldnames=video_column)\n",
    "        writer.writeheader()"
   ]
  },
  {
   "cell_type": "code",
   "execution_count": 15,
   "id": "a968620a",
   "metadata": {},
   "outputs": [],
   "source": [
    "for tag in KEYWORDS:\n",
    "    count = 0\n",
    "    videosSearch = VideosSearch(tag, limit=100)\n",
    "    results = videosSearch.result()['result']\n",
    "    while count <= 1500 and len(results) != 0:\n",
    "        results = []\n",
    "        try:\n",
    "            videos = videosSearch.result()['result']\n",
    "            for video in videos:\n",
    "                result = dict()\n",
    "                result['vid'] = video['id']\n",
    "                result['tag'] = tag\n",
    "                results.append(result)\n",
    "                \n",
    "            with open(video_path, 'a') as f:\n",
    "                writer = csv.DictWriter(f, fieldnames=video_column)\n",
    "                writer.writerows(results)\n",
    "        except Exception as e:\n",
    "            with open('InitDataset/log.csv', 'a') as f:\n",
    "                text = ','.join([vid, 'id',str(e)+'\\n'])\n",
    "                f.write(text)\n",
    "        \n",
    "        count += len(results)\n",
    "        videosSearch.next()"
   ]
  },
  {
   "cell_type": "code",
   "execution_count": 17,
   "id": "10ac6ce1",
   "metadata": {},
   "outputs": [],
   "source": [
    "video_df = pd.read_csv(video_path)\n",
    "vids = set(video_df['vid'])"
   ]
  },
  {
   "cell_type": "markdown",
   "id": "44bc58b3",
   "metadata": {},
   "source": [
    "## 1.2 Collect Video Information"
   ]
  },
  {
   "cell_type": "code",
   "execution_count": 20,
   "id": "ef147ca6",
   "metadata": {},
   "outputs": [],
   "source": [
    "info_column = ['vid', 'title', 'duration', 'views']\n",
    "info_path = 'InitDataset/infos.csv'\n",
    "if not os.path.exists(info_path):\n",
    "    with open(info_path, 'a') as f:\n",
    "        writer = csv.DictWriter(f, fieldnames=info_column)\n",
    "        writer.writeheader()"
   ]
  },
  {
   "cell_type": "code",
   "execution_count": 21,
   "id": "e929ee5a",
   "metadata": {},
   "outputs": [
    {
     "name": "stderr",
     "output_type": "stream",
     "text": [
      "100%|██████████| 5314/5314 [22:44<00:00,  3.90it/s]\n"
     ]
    }
   ],
   "source": [
    "# get video information\n",
    "infos = []\n",
    "for vid in tqdm(vids):\n",
    "    try:\n",
    "        video = Video.get(vid)\n",
    "        info = dict()\n",
    "        info['vid'] = video['id']\n",
    "        info['title'] = video['title'].strip()\n",
    "        info['duration'] = video['duration']['secondsText']\n",
    "        info['views'] =  video['viewCount']['text']\n",
    "        infos.append(info)\n",
    "    except Exception as e:\n",
    "        with open('InitDataset/log.csv', 'a') as f:\n",
    "            text = ','.join([vid, 'transcript',str(e)+'\\n'])\n",
    "            f.write(text)"
   ]
  },
  {
   "cell_type": "code",
   "execution_count": 30,
   "id": "e97a5a34",
   "metadata": {},
   "outputs": [],
   "source": [
    "with open(info_path, 'a') as f:\n",
    "    writer = csv.DictWriter(f, fieldnames=info_column)\n",
    "    writer.writerows(infos)"
   ]
  },
  {
   "cell_type": "markdown",
   "id": "d83eeb07",
   "metadata": {},
   "source": [
    "## 1.3 Video Comment"
   ]
  },
  {
   "cell_type": "code",
   "execution_count": 18,
   "id": "ef3888ba",
   "metadata": {},
   "outputs": [],
   "source": [
    "columns = ['vid', 'uid', 'content', 'votes']\n",
    "comments_path = 'InitDataset/comments.csv'\n",
    "if not os.path.exists(comments_path):\n",
    "    with open(comments_path, 'a') as f:\n",
    "        writer = csv.DictWriter(f, fieldnames=columns)\n",
    "        writer.writeheader()"
   ]
  },
  {
   "cell_type": "code",
   "execution_count": 19,
   "id": "9321bd41",
   "metadata": {
    "scrolled": true
   },
   "outputs": [
    {
     "name": "stderr",
     "output_type": "stream",
     "text": [
      "100%|██████████| 5314/5314 [3:23:34<00:00,  2.30s/it]  \n"
     ]
    }
   ],
   "source": [
    "for vid in tqdm(vids):\n",
    "    results = []\n",
    "    page = 0\n",
    "    try:\n",
    "        comments_response = Comments(vid)\n",
    "        while page < 5 and comments_response.hasMoreComments:\n",
    "            comments = comments_response.comments[\"result\"]\n",
    "            for comment in comments:\n",
    "                result = dict()\n",
    "                result['vid'] = vid\n",
    "                result['uid'] = comment[\"id\"]\n",
    "                result['content'] = comment[\"content\"].strip()\n",
    "                result['votes'] = comment[\"votes\"]['simpleText']\n",
    "                results.append(result)\n",
    "            page += 1\n",
    "            comments_response.getNextComments()\n",
    "        with open(comments_path, 'a') as f:\n",
    "            writer = csv.DictWriter(f, fieldnames=columns)\n",
    "            writer.writerows(results)\n",
    "    except Exception as e:\n",
    "        with open('InitDataset/log.csv', 'a') as f:\n",
    "            text = ','.join([vid, 'comment',str(e)+'\\n'])\n",
    "            f.write(text)"
   ]
  },
  {
   "cell_type": "markdown",
   "id": "df8464ef",
   "metadata": {},
   "source": [
    "## 1.4 Transcript"
   ]
  },
  {
   "cell_type": "code",
   "execution_count": 66,
   "id": "bdec87d3",
   "metadata": {},
   "outputs": [],
   "source": [
    "nan_trans_vids = []\n",
    "for vid in vids:\n",
    "    path = os.path.join('InitDataset/Transcripts', vid+'.csv')\n",
    "    if not os.path.exists(path): \n",
    "        nan_trans_vids.append(vid)"
   ]
  },
  {
   "cell_type": "code",
   "execution_count": 67,
   "id": "1be9d0d7",
   "metadata": {},
   "outputs": [
    {
     "data": {
      "text/plain": [
       "4242"
      ]
     },
     "execution_count": 67,
     "metadata": {},
     "output_type": "execute_result"
    }
   ],
   "source": [
    "len(nan_trans_vids)"
   ]
  },
  {
   "cell_type": "code",
   "execution_count": 42,
   "id": "b82ffd4e",
   "metadata": {},
   "outputs": [],
   "source": [
    "columns = ['vid', 'start', 'end', 'text']\n",
    "transcript_path = 'InitDataset/Transcripts'"
   ]
  },
  {
   "cell_type": "code",
   "execution_count": 41,
   "id": "d7b9eec2",
   "metadata": {
    "collapsed": true
   },
   "outputs": [
    {
     "name": "stderr",
     "output_type": "stream",
     "text": [
      "  6%|▋         | 345/5314 [01:36<23:16,  3.56it/s]\n"
     ]
    },
    {
     "ename": "KeyboardInterrupt",
     "evalue": "",
     "output_type": "error",
     "traceback": [
      "\u001b[0;31m---------------------------------------------------------------------------\u001b[0m",
      "\u001b[0;31mKeyboardInterrupt\u001b[0m                         Traceback (most recent call last)",
      "\u001b[0;32m<ipython-input-41-869ca9c8b1bb>\u001b[0m in \u001b[0;36m<module>\u001b[0;34m\u001b[0m\n\u001b[1;32m      4\u001b[0m         \u001b[0;32mcontinue\u001b[0m\u001b[0;34m\u001b[0m\u001b[0;34m\u001b[0m\u001b[0m\n\u001b[1;32m      5\u001b[0m     \u001b[0;32mtry\u001b[0m\u001b[0;34m:\u001b[0m\u001b[0;34m\u001b[0m\u001b[0;34m\u001b[0m\u001b[0m\n\u001b[0;32m----> 6\u001b[0;31m         \u001b[0mtranscript\u001b[0m \u001b[0;34m=\u001b[0m \u001b[0mTranscript\u001b[0m\u001b[0;34m.\u001b[0m\u001b[0mget\u001b[0m\u001b[0;34m(\u001b[0m\u001b[0mvid\u001b[0m\u001b[0;34m)\u001b[0m\u001b[0;34m\u001b[0m\u001b[0;34m\u001b[0m\u001b[0m\n\u001b[0m\u001b[1;32m      7\u001b[0m         \u001b[0;31m# ========== check language ===========\u001b[0m\u001b[0;34m\u001b[0m\u001b[0;34m\u001b[0m\u001b[0;34m\u001b[0m\u001b[0m\n\u001b[1;32m      8\u001b[0m         \u001b[0mlanguages\u001b[0m \u001b[0;34m=\u001b[0m \u001b[0mpd\u001b[0m\u001b[0;34m.\u001b[0m\u001b[0mDataFrame\u001b[0m\u001b[0;34m.\u001b[0m\u001b[0mfrom_dict\u001b[0m\u001b[0;34m(\u001b[0m\u001b[0mtranscript\u001b[0m\u001b[0;34m[\u001b[0m\u001b[0;34m'languages'\u001b[0m\u001b[0;34m]\u001b[0m\u001b[0;34m)\u001b[0m\u001b[0;34m\u001b[0m\u001b[0;34m\u001b[0m\u001b[0m\n",
      "\u001b[0;32m~/miniforge3/envs/deeplearning/lib/python3.9/site-packages/youtubesearchpython/extras.py\u001b[0m in \u001b[0;36mget\u001b[0;34m(videoLink, params)\u001b[0m\n\u001b[1;32m   1826\u001b[0m     \u001b[0;32mdef\u001b[0m \u001b[0mget\u001b[0m\u001b[0;34m(\u001b[0m\u001b[0mvideoLink\u001b[0m\u001b[0;34m:\u001b[0m \u001b[0mstr\u001b[0m\u001b[0;34m,\u001b[0m \u001b[0mparams\u001b[0m\u001b[0;34m:\u001b[0m \u001b[0mstr\u001b[0m \u001b[0;34m=\u001b[0m \u001b[0;32mNone\u001b[0m\u001b[0;34m)\u001b[0m\u001b[0;34m:\u001b[0m\u001b[0;34m\u001b[0m\u001b[0;34m\u001b[0m\u001b[0m\n\u001b[1;32m   1827\u001b[0m         \u001b[0mtranscript_core\u001b[0m \u001b[0;34m=\u001b[0m \u001b[0mTranscriptCore\u001b[0m\u001b[0;34m(\u001b[0m\u001b[0mvideoLink\u001b[0m\u001b[0;34m,\u001b[0m \u001b[0mparams\u001b[0m\u001b[0;34m)\u001b[0m\u001b[0;34m\u001b[0m\u001b[0;34m\u001b[0m\u001b[0m\n\u001b[0;32m-> 1828\u001b[0;31m         \u001b[0mtranscript_core\u001b[0m\u001b[0;34m.\u001b[0m\u001b[0msync_create\u001b[0m\u001b[0;34m(\u001b[0m\u001b[0;34m)\u001b[0m\u001b[0;34m\u001b[0m\u001b[0;34m\u001b[0m\u001b[0m\n\u001b[0m\u001b[1;32m   1829\u001b[0m         \u001b[0;32mreturn\u001b[0m \u001b[0mtranscript_core\u001b[0m\u001b[0;34m.\u001b[0m\u001b[0mresult\u001b[0m\u001b[0;34m\u001b[0m\u001b[0;34m\u001b[0m\u001b[0m\n\u001b[1;32m   1830\u001b[0m \u001b[0;34m\u001b[0m\u001b[0m\n",
      "\u001b[0;32m~/miniforge3/envs/deeplearning/lib/python3.9/site-packages/youtubesearchpython/core/transcript.py\u001b[0m in \u001b[0;36msync_create\u001b[0;34m(self)\u001b[0m\n\u001b[1;32m    102\u001b[0m         \u001b[0;32mif\u001b[0m \u001b[0;32mnot\u001b[0m \u001b[0mself\u001b[0m\u001b[0;34m.\u001b[0m\u001b[0mkey\u001b[0m\u001b[0;34m:\u001b[0m\u001b[0;34m\u001b[0m\u001b[0;34m\u001b[0m\u001b[0m\n\u001b[1;32m    103\u001b[0m             \u001b[0mself\u001b[0m\u001b[0;34m.\u001b[0m\u001b[0mprepare_params_request\u001b[0m\u001b[0;34m(\u001b[0m\u001b[0;34m)\u001b[0m\u001b[0;34m\u001b[0m\u001b[0;34m\u001b[0m\u001b[0m\n\u001b[0;32m--> 104\u001b[0;31m             \u001b[0mr\u001b[0m \u001b[0;34m=\u001b[0m \u001b[0mself\u001b[0m\u001b[0;34m.\u001b[0m\u001b[0msyncPostRequest\u001b[0m\u001b[0;34m(\u001b[0m\u001b[0;34m)\u001b[0m\u001b[0;34m\u001b[0m\u001b[0;34m\u001b[0m\u001b[0m\n\u001b[0m\u001b[1;32m    105\u001b[0m             \u001b[0mend\u001b[0m \u001b[0;34m=\u001b[0m \u001b[0mself\u001b[0m\u001b[0;34m.\u001b[0m\u001b[0mextract_continuation_key\u001b[0m\u001b[0;34m(\u001b[0m\u001b[0mr\u001b[0m\u001b[0;34m)\u001b[0m\u001b[0;34m\u001b[0m\u001b[0;34m\u001b[0m\u001b[0m\n\u001b[1;32m    106\u001b[0m             \u001b[0;32mif\u001b[0m \u001b[0mend\u001b[0m\u001b[0;34m:\u001b[0m\u001b[0;34m\u001b[0m\u001b[0;34m\u001b[0m\u001b[0m\n",
      "\u001b[0;32m~/miniforge3/envs/deeplearning/lib/python3.9/site-packages/youtubesearchpython/core/requests.py\u001b[0m in \u001b[0;36msyncPostRequest\u001b[0;34m(self)\u001b[0m\n\u001b[1;32m     18\u001b[0m \u001b[0;34m\u001b[0m\u001b[0m\n\u001b[1;32m     19\u001b[0m     \u001b[0;32mdef\u001b[0m \u001b[0msyncPostRequest\u001b[0m\u001b[0;34m(\u001b[0m\u001b[0mself\u001b[0m\u001b[0;34m)\u001b[0m \u001b[0;34m->\u001b[0m \u001b[0mhttpx\u001b[0m\u001b[0;34m.\u001b[0m\u001b[0mResponse\u001b[0m\u001b[0;34m:\u001b[0m\u001b[0;34m\u001b[0m\u001b[0;34m\u001b[0m\u001b[0m\n\u001b[0;32m---> 20\u001b[0;31m         return httpx.post(\n\u001b[0m\u001b[1;32m     21\u001b[0m             \u001b[0mself\u001b[0m\u001b[0;34m.\u001b[0m\u001b[0murl\u001b[0m\u001b[0;34m,\u001b[0m\u001b[0;34m\u001b[0m\u001b[0;34m\u001b[0m\u001b[0m\n\u001b[1;32m     22\u001b[0m             \u001b[0mheaders\u001b[0m\u001b[0;34m=\u001b[0m\u001b[0;34m{\u001b[0m\u001b[0;34m\"User-Agent\"\u001b[0m\u001b[0;34m:\u001b[0m \u001b[0muserAgent\u001b[0m\u001b[0;34m}\u001b[0m\u001b[0;34m,\u001b[0m\u001b[0;34m\u001b[0m\u001b[0;34m\u001b[0m\u001b[0m\n",
      "\u001b[0;32m~/miniforge3/envs/deeplearning/lib/python3.9/site-packages/httpx/_api.py\u001b[0m in \u001b[0;36mpost\u001b[0;34m(url, content, data, files, json, params, headers, cookies, auth, proxies, follow_redirects, cert, verify, timeout, trust_env)\u001b[0m\n\u001b[1;32m    302\u001b[0m     \u001b[0;34m**\u001b[0m\u001b[0mParameters\u001b[0m\u001b[0;34m**\u001b[0m\u001b[0;34m:\u001b[0m \u001b[0mSee\u001b[0m\u001b[0;31m \u001b[0m\u001b[0;31m`\u001b[0m\u001b[0mhttpx\u001b[0m\u001b[0;34m.\u001b[0m\u001b[0mrequest\u001b[0m\u001b[0;31m`\u001b[0m\u001b[0;34m.\u001b[0m\u001b[0;34m\u001b[0m\u001b[0;34m\u001b[0m\u001b[0m\n\u001b[1;32m    303\u001b[0m     \"\"\"\n\u001b[0;32m--> 304\u001b[0;31m     return request(\n\u001b[0m\u001b[1;32m    305\u001b[0m         \u001b[0;34m\"POST\"\u001b[0m\u001b[0;34m,\u001b[0m\u001b[0;34m\u001b[0m\u001b[0;34m\u001b[0m\u001b[0m\n\u001b[1;32m    306\u001b[0m         \u001b[0murl\u001b[0m\u001b[0;34m,\u001b[0m\u001b[0;34m\u001b[0m\u001b[0;34m\u001b[0m\u001b[0m\n",
      "\u001b[0;32m~/miniforge3/envs/deeplearning/lib/python3.9/site-packages/httpx/_api.py\u001b[0m in \u001b[0;36mrequest\u001b[0;34m(method, url, params, content, data, files, json, headers, cookies, auth, proxies, timeout, follow_redirects, verify, cert, trust_env)\u001b[0m\n\u001b[1;32m     98\u001b[0m         \u001b[0mtrust_env\u001b[0m\u001b[0;34m=\u001b[0m\u001b[0mtrust_env\u001b[0m\u001b[0;34m,\u001b[0m\u001b[0;34m\u001b[0m\u001b[0;34m\u001b[0m\u001b[0m\n\u001b[1;32m     99\u001b[0m     ) as client:\n\u001b[0;32m--> 100\u001b[0;31m         return client.request(\n\u001b[0m\u001b[1;32m    101\u001b[0m             \u001b[0mmethod\u001b[0m\u001b[0;34m=\u001b[0m\u001b[0mmethod\u001b[0m\u001b[0;34m,\u001b[0m\u001b[0;34m\u001b[0m\u001b[0;34m\u001b[0m\u001b[0m\n\u001b[1;32m    102\u001b[0m             \u001b[0murl\u001b[0m\u001b[0;34m=\u001b[0m\u001b[0murl\u001b[0m\u001b[0;34m,\u001b[0m\u001b[0;34m\u001b[0m\u001b[0;34m\u001b[0m\u001b[0m\n",
      "\u001b[0;32m~/miniforge3/envs/deeplearning/lib/python3.9/site-packages/httpx/_client.py\u001b[0m in \u001b[0;36mrequest\u001b[0;34m(self, method, url, content, data, files, json, params, headers, cookies, auth, follow_redirects, timeout, extensions)\u001b[0m\n\u001b[1;32m    813\u001b[0m             \u001b[0mextensions\u001b[0m\u001b[0;34m=\u001b[0m\u001b[0mextensions\u001b[0m\u001b[0;34m,\u001b[0m\u001b[0;34m\u001b[0m\u001b[0;34m\u001b[0m\u001b[0m\n\u001b[1;32m    814\u001b[0m         )\n\u001b[0;32m--> 815\u001b[0;31m         \u001b[0;32mreturn\u001b[0m \u001b[0mself\u001b[0m\u001b[0;34m.\u001b[0m\u001b[0msend\u001b[0m\u001b[0;34m(\u001b[0m\u001b[0mrequest\u001b[0m\u001b[0;34m,\u001b[0m \u001b[0mauth\u001b[0m\u001b[0;34m=\u001b[0m\u001b[0mauth\u001b[0m\u001b[0;34m,\u001b[0m \u001b[0mfollow_redirects\u001b[0m\u001b[0;34m=\u001b[0m\u001b[0mfollow_redirects\u001b[0m\u001b[0;34m)\u001b[0m\u001b[0;34m\u001b[0m\u001b[0;34m\u001b[0m\u001b[0m\n\u001b[0m\u001b[1;32m    816\u001b[0m \u001b[0;34m\u001b[0m\u001b[0m\n\u001b[1;32m    817\u001b[0m     \u001b[0;34m@\u001b[0m\u001b[0mcontextmanager\u001b[0m\u001b[0;34m\u001b[0m\u001b[0;34m\u001b[0m\u001b[0m\n",
      "\u001b[0;32m~/miniforge3/envs/deeplearning/lib/python3.9/site-packages/httpx/_client.py\u001b[0m in \u001b[0;36msend\u001b[0;34m(self, request, stream, auth, follow_redirects)\u001b[0m\n\u001b[1;32m    900\u001b[0m         \u001b[0mauth\u001b[0m \u001b[0;34m=\u001b[0m \u001b[0mself\u001b[0m\u001b[0;34m.\u001b[0m\u001b[0m_build_request_auth\u001b[0m\u001b[0;34m(\u001b[0m\u001b[0mrequest\u001b[0m\u001b[0;34m,\u001b[0m \u001b[0mauth\u001b[0m\u001b[0;34m)\u001b[0m\u001b[0;34m\u001b[0m\u001b[0;34m\u001b[0m\u001b[0m\n\u001b[1;32m    901\u001b[0m \u001b[0;34m\u001b[0m\u001b[0m\n\u001b[0;32m--> 902\u001b[0;31m         response = self._send_handling_auth(\n\u001b[0m\u001b[1;32m    903\u001b[0m             \u001b[0mrequest\u001b[0m\u001b[0;34m,\u001b[0m\u001b[0;34m\u001b[0m\u001b[0;34m\u001b[0m\u001b[0m\n\u001b[1;32m    904\u001b[0m             \u001b[0mauth\u001b[0m\u001b[0;34m=\u001b[0m\u001b[0mauth\u001b[0m\u001b[0;34m,\u001b[0m\u001b[0;34m\u001b[0m\u001b[0;34m\u001b[0m\u001b[0m\n",
      "\u001b[0;32m~/miniforge3/envs/deeplearning/lib/python3.9/site-packages/httpx/_client.py\u001b[0m in \u001b[0;36m_send_handling_auth\u001b[0;34m(self, request, auth, follow_redirects, history)\u001b[0m\n\u001b[1;32m    928\u001b[0m \u001b[0;34m\u001b[0m\u001b[0m\n\u001b[1;32m    929\u001b[0m             \u001b[0;32mwhile\u001b[0m \u001b[0;32mTrue\u001b[0m\u001b[0;34m:\u001b[0m\u001b[0;34m\u001b[0m\u001b[0;34m\u001b[0m\u001b[0m\n\u001b[0;32m--> 930\u001b[0;31m                 response = self._send_handling_redirects(\n\u001b[0m\u001b[1;32m    931\u001b[0m                     \u001b[0mrequest\u001b[0m\u001b[0;34m,\u001b[0m\u001b[0;34m\u001b[0m\u001b[0;34m\u001b[0m\u001b[0m\n\u001b[1;32m    932\u001b[0m                     \u001b[0mfollow_redirects\u001b[0m\u001b[0;34m=\u001b[0m\u001b[0mfollow_redirects\u001b[0m\u001b[0;34m,\u001b[0m\u001b[0;34m\u001b[0m\u001b[0;34m\u001b[0m\u001b[0m\n",
      "\u001b[0;32m~/miniforge3/envs/deeplearning/lib/python3.9/site-packages/httpx/_client.py\u001b[0m in \u001b[0;36m_send_handling_redirects\u001b[0;34m(self, request, follow_redirects, history)\u001b[0m\n\u001b[1;32m    965\u001b[0m                 \u001b[0mhook\u001b[0m\u001b[0;34m(\u001b[0m\u001b[0mrequest\u001b[0m\u001b[0;34m)\u001b[0m\u001b[0;34m\u001b[0m\u001b[0;34m\u001b[0m\u001b[0m\n\u001b[1;32m    966\u001b[0m \u001b[0;34m\u001b[0m\u001b[0m\n\u001b[0;32m--> 967\u001b[0;31m             \u001b[0mresponse\u001b[0m \u001b[0;34m=\u001b[0m \u001b[0mself\u001b[0m\u001b[0;34m.\u001b[0m\u001b[0m_send_single_request\u001b[0m\u001b[0;34m(\u001b[0m\u001b[0mrequest\u001b[0m\u001b[0;34m)\u001b[0m\u001b[0;34m\u001b[0m\u001b[0;34m\u001b[0m\u001b[0m\n\u001b[0m\u001b[1;32m    968\u001b[0m             \u001b[0;32mtry\u001b[0m\u001b[0;34m:\u001b[0m\u001b[0;34m\u001b[0m\u001b[0;34m\u001b[0m\u001b[0m\n\u001b[1;32m    969\u001b[0m                 \u001b[0;32mfor\u001b[0m \u001b[0mhook\u001b[0m \u001b[0;32min\u001b[0m \u001b[0mself\u001b[0m\u001b[0;34m.\u001b[0m\u001b[0m_event_hooks\u001b[0m\u001b[0;34m[\u001b[0m\u001b[0;34m\"response\"\u001b[0m\u001b[0;34m]\u001b[0m\u001b[0;34m:\u001b[0m\u001b[0;34m\u001b[0m\u001b[0;34m\u001b[0m\u001b[0m\n",
      "\u001b[0;32m~/miniforge3/envs/deeplearning/lib/python3.9/site-packages/httpx/_client.py\u001b[0m in \u001b[0;36m_send_single_request\u001b[0;34m(self, request)\u001b[0m\n\u001b[1;32m   1001\u001b[0m \u001b[0;34m\u001b[0m\u001b[0m\n\u001b[1;32m   1002\u001b[0m         \u001b[0;32mwith\u001b[0m \u001b[0mrequest_context\u001b[0m\u001b[0;34m(\u001b[0m\u001b[0mrequest\u001b[0m\u001b[0;34m=\u001b[0m\u001b[0mrequest\u001b[0m\u001b[0;34m)\u001b[0m\u001b[0;34m:\u001b[0m\u001b[0;34m\u001b[0m\u001b[0;34m\u001b[0m\u001b[0m\n\u001b[0;32m-> 1003\u001b[0;31m             \u001b[0mresponse\u001b[0m \u001b[0;34m=\u001b[0m \u001b[0mtransport\u001b[0m\u001b[0;34m.\u001b[0m\u001b[0mhandle_request\u001b[0m\u001b[0;34m(\u001b[0m\u001b[0mrequest\u001b[0m\u001b[0;34m)\u001b[0m\u001b[0;34m\u001b[0m\u001b[0;34m\u001b[0m\u001b[0m\n\u001b[0m\u001b[1;32m   1004\u001b[0m \u001b[0;34m\u001b[0m\u001b[0m\n\u001b[1;32m   1005\u001b[0m         \u001b[0;32massert\u001b[0m \u001b[0misinstance\u001b[0m\u001b[0;34m(\u001b[0m\u001b[0mresponse\u001b[0m\u001b[0;34m.\u001b[0m\u001b[0mstream\u001b[0m\u001b[0;34m,\u001b[0m \u001b[0mSyncByteStream\u001b[0m\u001b[0;34m)\u001b[0m\u001b[0;34m\u001b[0m\u001b[0;34m\u001b[0m\u001b[0m\n",
      "\u001b[0;32m~/miniforge3/envs/deeplearning/lib/python3.9/site-packages/httpx/_transports/default.py\u001b[0m in \u001b[0;36mhandle_request\u001b[0;34m(self, request)\u001b[0m\n\u001b[1;32m    216\u001b[0m         )\n\u001b[1;32m    217\u001b[0m         \u001b[0;32mwith\u001b[0m \u001b[0mmap_httpcore_exceptions\u001b[0m\u001b[0;34m(\u001b[0m\u001b[0;34m)\u001b[0m\u001b[0;34m:\u001b[0m\u001b[0;34m\u001b[0m\u001b[0;34m\u001b[0m\u001b[0m\n\u001b[0;32m--> 218\u001b[0;31m             \u001b[0mresp\u001b[0m \u001b[0;34m=\u001b[0m \u001b[0mself\u001b[0m\u001b[0;34m.\u001b[0m\u001b[0m_pool\u001b[0m\u001b[0;34m.\u001b[0m\u001b[0mhandle_request\u001b[0m\u001b[0;34m(\u001b[0m\u001b[0mreq\u001b[0m\u001b[0;34m)\u001b[0m\u001b[0;34m\u001b[0m\u001b[0;34m\u001b[0m\u001b[0m\n\u001b[0m\u001b[1;32m    219\u001b[0m \u001b[0;34m\u001b[0m\u001b[0m\n\u001b[1;32m    220\u001b[0m         \u001b[0;32massert\u001b[0m \u001b[0misinstance\u001b[0m\u001b[0;34m(\u001b[0m\u001b[0mresp\u001b[0m\u001b[0;34m.\u001b[0m\u001b[0mstream\u001b[0m\u001b[0;34m,\u001b[0m \u001b[0mtyping\u001b[0m\u001b[0;34m.\u001b[0m\u001b[0mIterable\u001b[0m\u001b[0;34m)\u001b[0m\u001b[0;34m\u001b[0m\u001b[0;34m\u001b[0m\u001b[0m\n",
      "\u001b[0;32m~/miniforge3/envs/deeplearning/lib/python3.9/site-packages/httpcore/_sync/connection_pool.py\u001b[0m in \u001b[0;36mhandle_request\u001b[0;34m(self, request)\u001b[0m\n\u001b[1;32m    251\u001b[0m             \u001b[0;32mexcept\u001b[0m \u001b[0mBaseException\u001b[0m \u001b[0;32mas\u001b[0m \u001b[0mexc\u001b[0m\u001b[0;34m:\u001b[0m\u001b[0;34m\u001b[0m\u001b[0;34m\u001b[0m\u001b[0m\n\u001b[1;32m    252\u001b[0m                 \u001b[0mself\u001b[0m\u001b[0;34m.\u001b[0m\u001b[0mresponse_closed\u001b[0m\u001b[0;34m(\u001b[0m\u001b[0mstatus\u001b[0m\u001b[0;34m)\u001b[0m\u001b[0;34m\u001b[0m\u001b[0;34m\u001b[0m\u001b[0m\n\u001b[0;32m--> 253\u001b[0;31m                 \u001b[0;32mraise\u001b[0m \u001b[0mexc\u001b[0m\u001b[0;34m\u001b[0m\u001b[0;34m\u001b[0m\u001b[0m\n\u001b[0m\u001b[1;32m    254\u001b[0m             \u001b[0;32melse\u001b[0m\u001b[0;34m:\u001b[0m\u001b[0;34m\u001b[0m\u001b[0;34m\u001b[0m\u001b[0m\n\u001b[1;32m    255\u001b[0m                 \u001b[0;32mbreak\u001b[0m\u001b[0;34m\u001b[0m\u001b[0;34m\u001b[0m\u001b[0m\n",
      "\u001b[0;32m~/miniforge3/envs/deeplearning/lib/python3.9/site-packages/httpcore/_sync/connection_pool.py\u001b[0m in \u001b[0;36mhandle_request\u001b[0;34m(self, request)\u001b[0m\n\u001b[1;32m    235\u001b[0m \u001b[0;34m\u001b[0m\u001b[0m\n\u001b[1;32m    236\u001b[0m             \u001b[0;32mtry\u001b[0m\u001b[0;34m:\u001b[0m\u001b[0;34m\u001b[0m\u001b[0;34m\u001b[0m\u001b[0m\n\u001b[0;32m--> 237\u001b[0;31m                 \u001b[0mresponse\u001b[0m \u001b[0;34m=\u001b[0m \u001b[0mconnection\u001b[0m\u001b[0;34m.\u001b[0m\u001b[0mhandle_request\u001b[0m\u001b[0;34m(\u001b[0m\u001b[0mrequest\u001b[0m\u001b[0;34m)\u001b[0m\u001b[0;34m\u001b[0m\u001b[0;34m\u001b[0m\u001b[0m\n\u001b[0m\u001b[1;32m    238\u001b[0m             \u001b[0;32mexcept\u001b[0m \u001b[0mConnectionNotAvailable\u001b[0m\u001b[0;34m:\u001b[0m\u001b[0;34m\u001b[0m\u001b[0;34m\u001b[0m\u001b[0m\n\u001b[1;32m    239\u001b[0m                 \u001b[0;31m# The ConnectionNotAvailable exception is a special case, that\u001b[0m\u001b[0;34m\u001b[0m\u001b[0;34m\u001b[0m\u001b[0;34m\u001b[0m\u001b[0m\n",
      "\u001b[0;32m~/miniforge3/envs/deeplearning/lib/python3.9/site-packages/httpcore/_sync/connection.py\u001b[0m in \u001b[0;36mhandle_request\u001b[0;34m(self, request)\u001b[0m\n\u001b[1;32m     88\u001b[0m                 \u001b[0;32mraise\u001b[0m \u001b[0mConnectionNotAvailable\u001b[0m\u001b[0;34m(\u001b[0m\u001b[0;34m)\u001b[0m\u001b[0;34m\u001b[0m\u001b[0;34m\u001b[0m\u001b[0m\n\u001b[1;32m     89\u001b[0m \u001b[0;34m\u001b[0m\u001b[0m\n\u001b[0;32m---> 90\u001b[0;31m         \u001b[0;32mreturn\u001b[0m \u001b[0mself\u001b[0m\u001b[0;34m.\u001b[0m\u001b[0m_connection\u001b[0m\u001b[0;34m.\u001b[0m\u001b[0mhandle_request\u001b[0m\u001b[0;34m(\u001b[0m\u001b[0mrequest\u001b[0m\u001b[0;34m)\u001b[0m\u001b[0;34m\u001b[0m\u001b[0;34m\u001b[0m\u001b[0m\n\u001b[0m\u001b[1;32m     91\u001b[0m \u001b[0;34m\u001b[0m\u001b[0m\n\u001b[1;32m     92\u001b[0m     \u001b[0;32mdef\u001b[0m \u001b[0m_connect\u001b[0m\u001b[0;34m(\u001b[0m\u001b[0mself\u001b[0m\u001b[0;34m,\u001b[0m \u001b[0mrequest\u001b[0m\u001b[0;34m:\u001b[0m \u001b[0mRequest\u001b[0m\u001b[0;34m)\u001b[0m \u001b[0;34m->\u001b[0m \u001b[0mNetworkStream\u001b[0m\u001b[0;34m:\u001b[0m\u001b[0;34m\u001b[0m\u001b[0;34m\u001b[0m\u001b[0m\n",
      "\u001b[0;32m~/miniforge3/envs/deeplearning/lib/python3.9/site-packages/httpcore/_sync/http11.py\u001b[0m in \u001b[0;36mhandle_request\u001b[0;34m(self, request)\u001b[0m\n\u001b[1;32m    103\u001b[0m             \u001b[0;32mwith\u001b[0m \u001b[0mTrace\u001b[0m\u001b[0;34m(\u001b[0m\u001b[0;34m\"http11.response_closed\"\u001b[0m\u001b[0;34m,\u001b[0m \u001b[0mrequest\u001b[0m\u001b[0;34m)\u001b[0m \u001b[0;32mas\u001b[0m \u001b[0mtrace\u001b[0m\u001b[0;34m:\u001b[0m\u001b[0;34m\u001b[0m\u001b[0;34m\u001b[0m\u001b[0m\n\u001b[1;32m    104\u001b[0m                 \u001b[0mself\u001b[0m\u001b[0;34m.\u001b[0m\u001b[0m_response_closed\u001b[0m\u001b[0;34m(\u001b[0m\u001b[0;34m)\u001b[0m\u001b[0;34m\u001b[0m\u001b[0;34m\u001b[0m\u001b[0m\n\u001b[0;32m--> 105\u001b[0;31m             \u001b[0;32mraise\u001b[0m \u001b[0mexc\u001b[0m\u001b[0;34m\u001b[0m\u001b[0;34m\u001b[0m\u001b[0m\n\u001b[0m\u001b[1;32m    106\u001b[0m \u001b[0;34m\u001b[0m\u001b[0m\n\u001b[1;32m    107\u001b[0m     \u001b[0;31m# Sending the request...\u001b[0m\u001b[0;34m\u001b[0m\u001b[0;34m\u001b[0m\u001b[0;34m\u001b[0m\u001b[0m\n",
      "\u001b[0;32m~/miniforge3/envs/deeplearning/lib/python3.9/site-packages/httpcore/_sync/http11.py\u001b[0m in \u001b[0;36mhandle_request\u001b[0;34m(self, request)\u001b[0m\n\u001b[1;32m     82\u001b[0m                     \u001b[0mreason_phrase\u001b[0m\u001b[0;34m,\u001b[0m\u001b[0;34m\u001b[0m\u001b[0;34m\u001b[0m\u001b[0m\n\u001b[1;32m     83\u001b[0m                     \u001b[0mheaders\u001b[0m\u001b[0;34m,\u001b[0m\u001b[0;34m\u001b[0m\u001b[0;34m\u001b[0m\u001b[0m\n\u001b[0;32m---> 84\u001b[0;31m                 ) = self._receive_response_headers(**kwargs)\n\u001b[0m\u001b[1;32m     85\u001b[0m                 trace.return_value = (\n\u001b[1;32m     86\u001b[0m                     \u001b[0mhttp_version\u001b[0m\u001b[0;34m,\u001b[0m\u001b[0;34m\u001b[0m\u001b[0;34m\u001b[0m\u001b[0m\n",
      "\u001b[0;32m~/miniforge3/envs/deeplearning/lib/python3.9/site-packages/httpcore/_sync/http11.py\u001b[0m in \u001b[0;36m_receive_response_headers\u001b[0;34m(self, request)\u001b[0m\n\u001b[1;32m    146\u001b[0m \u001b[0;34m\u001b[0m\u001b[0m\n\u001b[1;32m    147\u001b[0m         \u001b[0;32mwhile\u001b[0m \u001b[0;32mTrue\u001b[0m\u001b[0;34m:\u001b[0m\u001b[0;34m\u001b[0m\u001b[0;34m\u001b[0m\u001b[0m\n\u001b[0;32m--> 148\u001b[0;31m             \u001b[0mevent\u001b[0m \u001b[0;34m=\u001b[0m \u001b[0mself\u001b[0m\u001b[0;34m.\u001b[0m\u001b[0m_receive_event\u001b[0m\u001b[0;34m(\u001b[0m\u001b[0mtimeout\u001b[0m\u001b[0;34m=\u001b[0m\u001b[0mtimeout\u001b[0m\u001b[0;34m)\u001b[0m\u001b[0;34m\u001b[0m\u001b[0;34m\u001b[0m\u001b[0m\n\u001b[0m\u001b[1;32m    149\u001b[0m             \u001b[0;32mif\u001b[0m \u001b[0misinstance\u001b[0m\u001b[0;34m(\u001b[0m\u001b[0mevent\u001b[0m\u001b[0;34m,\u001b[0m \u001b[0mh11\u001b[0m\u001b[0;34m.\u001b[0m\u001b[0mResponse\u001b[0m\u001b[0;34m)\u001b[0m\u001b[0;34m:\u001b[0m\u001b[0;34m\u001b[0m\u001b[0;34m\u001b[0m\u001b[0m\n\u001b[1;32m    150\u001b[0m                 \u001b[0;32mbreak\u001b[0m\u001b[0;34m\u001b[0m\u001b[0;34m\u001b[0m\u001b[0m\n",
      "\u001b[0;32m~/miniforge3/envs/deeplearning/lib/python3.9/site-packages/httpcore/_sync/http11.py\u001b[0m in \u001b[0;36m_receive_event\u001b[0;34m(self, timeout)\u001b[0m\n\u001b[1;32m    175\u001b[0m \u001b[0;34m\u001b[0m\u001b[0m\n\u001b[1;32m    176\u001b[0m             \u001b[0;32mif\u001b[0m \u001b[0mevent\u001b[0m \u001b[0;32mis\u001b[0m \u001b[0mh11\u001b[0m\u001b[0;34m.\u001b[0m\u001b[0mNEED_DATA\u001b[0m\u001b[0;34m:\u001b[0m\u001b[0;34m\u001b[0m\u001b[0;34m\u001b[0m\u001b[0m\n\u001b[0;32m--> 177\u001b[0;31m                 data = self._network_stream.read(\n\u001b[0m\u001b[1;32m    178\u001b[0m                     \u001b[0mself\u001b[0m\u001b[0;34m.\u001b[0m\u001b[0mREAD_NUM_BYTES\u001b[0m\u001b[0;34m,\u001b[0m \u001b[0mtimeout\u001b[0m\u001b[0;34m=\u001b[0m\u001b[0mtimeout\u001b[0m\u001b[0;34m\u001b[0m\u001b[0;34m\u001b[0m\u001b[0m\n\u001b[1;32m    179\u001b[0m                 )\n",
      "\u001b[0;32m~/miniforge3/envs/deeplearning/lib/python3.9/site-packages/httpcore/backends/sync.py\u001b[0m in \u001b[0;36mread\u001b[0;34m(self, max_bytes, timeout)\u001b[0m\n\u001b[1;32m     24\u001b[0m         \u001b[0;32mwith\u001b[0m \u001b[0mmap_exceptions\u001b[0m\u001b[0;34m(\u001b[0m\u001b[0mexc_map\u001b[0m\u001b[0;34m)\u001b[0m\u001b[0;34m:\u001b[0m\u001b[0;34m\u001b[0m\u001b[0;34m\u001b[0m\u001b[0m\n\u001b[1;32m     25\u001b[0m             \u001b[0mself\u001b[0m\u001b[0;34m.\u001b[0m\u001b[0m_sock\u001b[0m\u001b[0;34m.\u001b[0m\u001b[0msettimeout\u001b[0m\u001b[0;34m(\u001b[0m\u001b[0mtimeout\u001b[0m\u001b[0;34m)\u001b[0m\u001b[0;34m\u001b[0m\u001b[0;34m\u001b[0m\u001b[0m\n\u001b[0;32m---> 26\u001b[0;31m             \u001b[0;32mreturn\u001b[0m \u001b[0mself\u001b[0m\u001b[0;34m.\u001b[0m\u001b[0m_sock\u001b[0m\u001b[0;34m.\u001b[0m\u001b[0mrecv\u001b[0m\u001b[0;34m(\u001b[0m\u001b[0mmax_bytes\u001b[0m\u001b[0;34m)\u001b[0m\u001b[0;34m\u001b[0m\u001b[0;34m\u001b[0m\u001b[0m\n\u001b[0m\u001b[1;32m     27\u001b[0m \u001b[0;34m\u001b[0m\u001b[0m\n\u001b[1;32m     28\u001b[0m     \u001b[0;32mdef\u001b[0m \u001b[0mwrite\u001b[0m\u001b[0;34m(\u001b[0m\u001b[0mself\u001b[0m\u001b[0;34m,\u001b[0m \u001b[0mbuffer\u001b[0m\u001b[0;34m:\u001b[0m \u001b[0mbytes\u001b[0m\u001b[0;34m,\u001b[0m \u001b[0mtimeout\u001b[0m\u001b[0;34m:\u001b[0m \u001b[0mtyping\u001b[0m\u001b[0;34m.\u001b[0m\u001b[0mOptional\u001b[0m\u001b[0;34m[\u001b[0m\u001b[0mfloat\u001b[0m\u001b[0;34m]\u001b[0m \u001b[0;34m=\u001b[0m \u001b[0;32mNone\u001b[0m\u001b[0;34m)\u001b[0m \u001b[0;34m->\u001b[0m \u001b[0;32mNone\u001b[0m\u001b[0;34m:\u001b[0m\u001b[0;34m\u001b[0m\u001b[0;34m\u001b[0m\u001b[0m\n",
      "\u001b[0;32m~/miniforge3/envs/deeplearning/lib/python3.9/ssl.py\u001b[0m in \u001b[0;36mrecv\u001b[0;34m(self, buflen, flags)\u001b[0m\n\u001b[1;32m   1224\u001b[0m                     \u001b[0;34m\"non-zero flags not allowed in calls to recv() on %s\"\u001b[0m \u001b[0;34m%\u001b[0m\u001b[0;34m\u001b[0m\u001b[0;34m\u001b[0m\u001b[0m\n\u001b[1;32m   1225\u001b[0m                     self.__class__)\n\u001b[0;32m-> 1226\u001b[0;31m             \u001b[0;32mreturn\u001b[0m \u001b[0mself\u001b[0m\u001b[0;34m.\u001b[0m\u001b[0mread\u001b[0m\u001b[0;34m(\u001b[0m\u001b[0mbuflen\u001b[0m\u001b[0;34m)\u001b[0m\u001b[0;34m\u001b[0m\u001b[0;34m\u001b[0m\u001b[0m\n\u001b[0m\u001b[1;32m   1227\u001b[0m         \u001b[0;32melse\u001b[0m\u001b[0;34m:\u001b[0m\u001b[0;34m\u001b[0m\u001b[0;34m\u001b[0m\u001b[0m\n\u001b[1;32m   1228\u001b[0m             \u001b[0;32mreturn\u001b[0m \u001b[0msuper\u001b[0m\u001b[0;34m(\u001b[0m\u001b[0;34m)\u001b[0m\u001b[0;34m.\u001b[0m\u001b[0mrecv\u001b[0m\u001b[0;34m(\u001b[0m\u001b[0mbuflen\u001b[0m\u001b[0;34m,\u001b[0m \u001b[0mflags\u001b[0m\u001b[0;34m)\u001b[0m\u001b[0;34m\u001b[0m\u001b[0;34m\u001b[0m\u001b[0m\n",
      "\u001b[0;32m~/miniforge3/envs/deeplearning/lib/python3.9/ssl.py\u001b[0m in \u001b[0;36mread\u001b[0;34m(self, len, buffer)\u001b[0m\n\u001b[1;32m   1099\u001b[0m                 \u001b[0;32mreturn\u001b[0m \u001b[0mself\u001b[0m\u001b[0;34m.\u001b[0m\u001b[0m_sslobj\u001b[0m\u001b[0;34m.\u001b[0m\u001b[0mread\u001b[0m\u001b[0;34m(\u001b[0m\u001b[0mlen\u001b[0m\u001b[0;34m,\u001b[0m \u001b[0mbuffer\u001b[0m\u001b[0;34m)\u001b[0m\u001b[0;34m\u001b[0m\u001b[0;34m\u001b[0m\u001b[0m\n\u001b[1;32m   1100\u001b[0m             \u001b[0;32melse\u001b[0m\u001b[0;34m:\u001b[0m\u001b[0;34m\u001b[0m\u001b[0;34m\u001b[0m\u001b[0m\n\u001b[0;32m-> 1101\u001b[0;31m                 \u001b[0;32mreturn\u001b[0m \u001b[0mself\u001b[0m\u001b[0;34m.\u001b[0m\u001b[0m_sslobj\u001b[0m\u001b[0;34m.\u001b[0m\u001b[0mread\u001b[0m\u001b[0;34m(\u001b[0m\u001b[0mlen\u001b[0m\u001b[0;34m)\u001b[0m\u001b[0;34m\u001b[0m\u001b[0;34m\u001b[0m\u001b[0m\n\u001b[0m\u001b[1;32m   1102\u001b[0m         \u001b[0;32mexcept\u001b[0m \u001b[0mSSLError\u001b[0m \u001b[0;32mas\u001b[0m \u001b[0mx\u001b[0m\u001b[0;34m:\u001b[0m\u001b[0;34m\u001b[0m\u001b[0;34m\u001b[0m\u001b[0m\n\u001b[1;32m   1103\u001b[0m             \u001b[0;32mif\u001b[0m \u001b[0mx\u001b[0m\u001b[0;34m.\u001b[0m\u001b[0margs\u001b[0m\u001b[0;34m[\u001b[0m\u001b[0;36m0\u001b[0m\u001b[0;34m]\u001b[0m \u001b[0;34m==\u001b[0m \u001b[0mSSL_ERROR_EOF\u001b[0m \u001b[0;32mand\u001b[0m \u001b[0mself\u001b[0m\u001b[0;34m.\u001b[0m\u001b[0msuppress_ragged_eofs\u001b[0m\u001b[0;34m:\u001b[0m\u001b[0;34m\u001b[0m\u001b[0;34m\u001b[0m\u001b[0m\n",
      "\u001b[0;31mKeyboardInterrupt\u001b[0m: "
     ]
    }
   ],
   "source": [
    "for vid in tqdm(vids):\n",
    "    path = os.path.join('InitDataset/Transcripts', vid+'.csv')\n",
    "    if os.path.exists(path):\n",
    "        continue\n",
    "    try:\n",
    "        transcript = Transcript.get(vid)\n",
    "        # ========== check language ===========\n",
    "        languages = pd.DataFrame.from_dict(transcript['languages'])\n",
    "        # 语言选项为空 - transcrtipt没有实际内容\n",
    "        if languages.empty:\n",
    "            continue\n",
    "        # check if ENGLISH\n",
    "        selected_language = languages[languages['selected'] == True]\n",
    "        if 'English' in selected_language['title'].item():\n",
    "            segments = transcript['segments']\n",
    "        else:\n",
    "            # If not ENGLISH, check if ENGLISH version is available\n",
    "            para = languages[languages['title'] == \"English\"]['params']\n",
    "            if not para.empty:\n",
    "                para = para.item()\n",
    "                transcript = Transcript.get(vid, para)\n",
    "                segments = transcript['segments']\n",
    "            else:\n",
    "                # report Failure\n",
    "                with open('InitDataset/log.csv', 'a') as f:\n",
    "                    text = ','.join([vid, 'Transcript', 'No English Version Found\\n'])\n",
    "                    f.write(text)\n",
    "                continue\n",
    "        # ====================================\n",
    "        \n",
    "        # ============ parse data ============\n",
    "        results = []\n",
    "        for segment in segments:\n",
    "            result = dict()\n",
    "            result['vid'] = vid\n",
    "            result['start'] = segment['startMs']\n",
    "            result['end'] = segment['endMs']\n",
    "            result['text'] = segment['text'].replace('\\n', ' ')\n",
    "            results.append(result)\n",
    "        \n",
    "        path = os.path.join(transcript_path, vid+'.csv')\n",
    "        with open(path, 'w') as f:\n",
    "            writer = csv.DictWriter(f, fieldnames=columns)\n",
    "            writer.writeheader()\n",
    "            writer.writerows(results)\n",
    "        # ====================================\n",
    "    except Exception as e:\n",
    "        with open('InitDataset/log.csv', 'a') as f:\n",
    "            text = ','.join([vid, 'Transcript',str(e)+'\\n'])\n",
    "            f.write(text)\n",
    "        "
   ]
  },
  {
   "cell_type": "markdown",
   "id": "1f981048",
   "metadata": {},
   "source": [
    "## 1. 5 Data Summary\n",
    "刚收集完的数据\n",
    "* comment **222w** 2219423\n",
    "* info **1.04w** 10439\n",
    "* transcript **1678**"
   ]
  },
  {
   "cell_type": "code",
   "execution_count": 3,
   "id": "695e0e27",
   "metadata": {
    "scrolled": true
   },
   "outputs": [
    {
     "data": {
      "text/html": [
       "<div>\n",
       "<style scoped>\n",
       "    .dataframe tbody tr th:only-of-type {\n",
       "        vertical-align: middle;\n",
       "    }\n",
       "\n",
       "    .dataframe tbody tr th {\n",
       "        vertical-align: top;\n",
       "    }\n",
       "\n",
       "    .dataframe thead th {\n",
       "        text-align: right;\n",
       "    }\n",
       "</style>\n",
       "<table border=\"1\" class=\"dataframe\">\n",
       "  <thead>\n",
       "    <tr style=\"text-align: right;\">\n",
       "      <th></th>\n",
       "      <th>vid</th>\n",
       "      <th>uid</th>\n",
       "      <th>content</th>\n",
       "      <th>votes</th>\n",
       "    </tr>\n",
       "  </thead>\n",
       "  <tbody>\n",
       "    <tr>\n",
       "      <th>0</th>\n",
       "      <td>G6mag86ktZA</td>\n",
       "      <td>UgwXmoHRaXCeROsnh5F4AaABAg</td>\n",
       "      <td>The only thing cheating in art is claiming an ...</td>\n",
       "      <td>15K</td>\n",
       "    </tr>\n",
       "    <tr>\n",
       "      <th>1</th>\n",
       "      <td>G6mag86ktZA</td>\n",
       "      <td>UgwLNU7F7oB8kVnVuWV4AaABAg</td>\n",
       "      <td>\"There is no cheating in art\"</td>\n",
       "      <td>1.1K</td>\n",
       "    </tr>\n",
       "    <tr>\n",
       "      <th>2</th>\n",
       "      <td>G6mag86ktZA</td>\n",
       "      <td>UgzzBJe9Ly93M1zgbWV4AaABAg</td>\n",
       "      <td>“Don’t listen to ppl you never met on the inte...</td>\n",
       "      <td>140</td>\n",
       "    </tr>\n",
       "    <tr>\n",
       "      <th>3</th>\n",
       "      <td>G6mag86ktZA</td>\n",
       "      <td>UgxE92cFu5sMoLRBa8t4AaABAg</td>\n",
       "      <td>Also tracing can help you get used to differen...</td>\n",
       "      <td>1.7K</td>\n",
       "    </tr>\n",
       "    <tr>\n",
       "      <th>4</th>\n",
       "      <td>G6mag86ktZA</td>\n",
       "      <td>UgxC92Pvqcnm0QqNQ0B4AaABAg</td>\n",
       "      <td>\"There's only one rule and that is to have fun.\"</td>\n",
       "      <td>70</td>\n",
       "    </tr>\n",
       "    <tr>\n",
       "      <th>...</th>\n",
       "      <td>...</td>\n",
       "      <td>...</td>\n",
       "      <td>...</td>\n",
       "      <td>...</td>\n",
       "    </tr>\n",
       "    <tr>\n",
       "      <th>2219418</th>\n",
       "      <td>K24iHkQ4umE</td>\n",
       "      <td>UgyGNIGaZz5kBLXdf6J4AaABAg</td>\n",
       "      <td>අරගලය මෙහෙයවන්නේ බටහිර ඉත්තෝ ! උන්ට රැවටෙන්න එ...</td>\n",
       "      <td>6</td>\n",
       "    </tr>\n",
       "    <tr>\n",
       "      <th>2219419</th>\n",
       "      <td>K24iHkQ4umE</td>\n",
       "      <td>UgyYNP578HYbcTn9yXF4AaABAg</td>\n",
       "      <td>GOTTAWA MARALA KAPALA GATANA KARAPAN NATHAM PU...</td>\n",
       "      <td>NaN</td>\n",
       "    </tr>\n",
       "    <tr>\n",
       "      <th>2219420</th>\n",
       "      <td>K24iHkQ4umE</td>\n",
       "      <td>Ugyl0T6MihWkvfqEAIt4AaABAg</td>\n",
       "      <td>GOTTATA PUK PUK GANA  SINGHALA VASA GANU SINGH...</td>\n",
       "      <td>NaN</td>\n",
       "    </tr>\n",
       "    <tr>\n",
       "      <th>2219421</th>\n",
       "      <td>K24iHkQ4umE</td>\n",
       "      <td>UgznIvU5IsXZLk21XXx4AaABAg</td>\n",
       "      <td>Chathura hora</td>\n",
       "      <td>2</td>\n",
       "    </tr>\n",
       "    <tr>\n",
       "      <th>2219422</th>\n",
       "      <td>K24iHkQ4umE</td>\n",
       "      <td>UgwKWW7YdeO46unw5kR4AaABAg</td>\n",
       "      <td>GOTTAWA MARALA KAPALA GATANA KARAPAN NATHAM PU...</td>\n",
       "      <td>NaN</td>\n",
       "    </tr>\n",
       "  </tbody>\n",
       "</table>\n",
       "<p>2219423 rows × 4 columns</p>\n",
       "</div>"
      ],
      "text/plain": [
       "                 vid                         uid  \\\n",
       "0        G6mag86ktZA  UgwXmoHRaXCeROsnh5F4AaABAg   \n",
       "1        G6mag86ktZA  UgwLNU7F7oB8kVnVuWV4AaABAg   \n",
       "2        G6mag86ktZA  UgzzBJe9Ly93M1zgbWV4AaABAg   \n",
       "3        G6mag86ktZA  UgxE92cFu5sMoLRBa8t4AaABAg   \n",
       "4        G6mag86ktZA  UgxC92Pvqcnm0QqNQ0B4AaABAg   \n",
       "...              ...                         ...   \n",
       "2219418  K24iHkQ4umE  UgyGNIGaZz5kBLXdf6J4AaABAg   \n",
       "2219419  K24iHkQ4umE  UgyYNP578HYbcTn9yXF4AaABAg   \n",
       "2219420  K24iHkQ4umE  Ugyl0T6MihWkvfqEAIt4AaABAg   \n",
       "2219421  K24iHkQ4umE  UgznIvU5IsXZLk21XXx4AaABAg   \n",
       "2219422  K24iHkQ4umE  UgwKWW7YdeO46unw5kR4AaABAg   \n",
       "\n",
       "                                                   content votes  \n",
       "0        The only thing cheating in art is claiming an ...   15K  \n",
       "1                            \"There is no cheating in art\"  1.1K  \n",
       "2        “Don’t listen to ppl you never met on the inte...   140  \n",
       "3        Also tracing can help you get used to differen...  1.7K  \n",
       "4         \"There's only one rule and that is to have fun.\"    70  \n",
       "...                                                    ...   ...  \n",
       "2219418  අරගලය මෙහෙයවන්නේ බටහිර ඉත්තෝ ! උන්ට රැවටෙන්න එ...     6  \n",
       "2219419  GOTTAWA MARALA KAPALA GATANA KARAPAN NATHAM PU...   NaN  \n",
       "2219420  GOTTATA PUK PUK GANA  SINGHALA VASA GANU SINGH...   NaN  \n",
       "2219421                                      Chathura hora     2  \n",
       "2219422  GOTTAWA MARALA KAPALA GATANA KARAPAN NATHAM PU...   NaN  \n",
       "\n",
       "[2219423 rows x 4 columns]"
      ]
     },
     "execution_count": 3,
     "metadata": {},
     "output_type": "execute_result"
    }
   ],
   "source": [
    "comment_df = pd.read_csv('InitDataset/comments.csv')\n",
    "comment_df"
   ]
  },
  {
   "cell_type": "code",
   "execution_count": 4,
   "id": "437ca482",
   "metadata": {
    "scrolled": true
   },
   "outputs": [
    {
     "data": {
      "text/html": [
       "<div>\n",
       "<style scoped>\n",
       "    .dataframe tbody tr th:only-of-type {\n",
       "        vertical-align: middle;\n",
       "    }\n",
       "\n",
       "    .dataframe tbody tr th {\n",
       "        vertical-align: top;\n",
       "    }\n",
       "\n",
       "    .dataframe thead th {\n",
       "        text-align: right;\n",
       "    }\n",
       "</style>\n",
       "<table border=\"1\" class=\"dataframe\">\n",
       "  <thead>\n",
       "    <tr style=\"text-align: right;\">\n",
       "      <th></th>\n",
       "      <th>vid</th>\n",
       "      <th>title</th>\n",
       "      <th>duration</th>\n",
       "      <th>views</th>\n",
       "    </tr>\n",
       "  </thead>\n",
       "  <tbody>\n",
       "    <tr>\n",
       "      <th>0</th>\n",
       "      <td>G6mag86ktZA</td>\n",
       "      <td>Is there such a thing as Cheating in Art?</td>\n",
       "      <td>52.0</td>\n",
       "      <td>1660431.0</td>\n",
       "    </tr>\n",
       "    <tr>\n",
       "      <th>1</th>\n",
       "      <td>ovxXYMsz37g</td>\n",
       "      <td>The Price of Education In China | Gen 跟 China</td>\n",
       "      <td>890.0</td>\n",
       "      <td>139509.0</td>\n",
       "    </tr>\n",
       "    <tr>\n",
       "      <th>2</th>\n",
       "      <td>B5GrU_ZgHwc</td>\n",
       "      <td>Poco F1 - World’s BEST Flagship Killer!</td>\n",
       "      <td>414.0</td>\n",
       "      <td>355078.0</td>\n",
       "    </tr>\n",
       "    <tr>\n",
       "      <th>3</th>\n",
       "      <td>zCe72UH4Mto</td>\n",
       "      <td>Food Storage Tour For Family Of 14 🥳😁😘 #shorts</td>\n",
       "      <td>60.0</td>\n",
       "      <td>357259.0</td>\n",
       "    </tr>\n",
       "    <tr>\n",
       "      <th>4</th>\n",
       "      <td>MeNlYwUpduU</td>\n",
       "      <td>Mit diesem 10-Minuten-Workout verbrennst du or...</td>\n",
       "      <td>605.0</td>\n",
       "      <td>1174834.0</td>\n",
       "    </tr>\n",
       "    <tr>\n",
       "      <th>...</th>\n",
       "      <td>...</td>\n",
       "      <td>...</td>\n",
       "      <td>...</td>\n",
       "      <td>...</td>\n",
       "    </tr>\n",
       "    <tr>\n",
       "      <th>10434</th>\n",
       "      <td>FMQyW5Dktdw</td>\n",
       "      <td>Tech House Mix 2021 (Fisher, James Hype, Cloon...</td>\n",
       "      <td>3943.0</td>\n",
       "      <td>2053418.0</td>\n",
       "    </tr>\n",
       "    <tr>\n",
       "      <th>10435</th>\n",
       "      <td>w15pCPU2-cA</td>\n",
       "      <td>Nothing Phone (1) Indian Retail Unit Unboxing ...</td>\n",
       "      <td>806.0</td>\n",
       "      <td>2809943.0</td>\n",
       "    </tr>\n",
       "    <tr>\n",
       "      <th>10436</th>\n",
       "      <td>_1AjMAPtmtQ</td>\n",
       "      <td>Japan swelters in its worst heatwave ever reco...</td>\n",
       "      <td>178.0</td>\n",
       "      <td>1343490.0</td>\n",
       "    </tr>\n",
       "    <tr>\n",
       "      <th>10437</th>\n",
       "      <td>sXdfRYyzbmU</td>\n",
       "      <td>Elon Musk Wants to Revolutionize Education</td>\n",
       "      <td>151.0</td>\n",
       "      <td>1255927.0</td>\n",
       "    </tr>\n",
       "    <tr>\n",
       "      <th>10438</th>\n",
       "      <td>K24iHkQ4umE</td>\n",
       "      <td>අද දෙරණ 6.55 ප්‍රධාන පුවත් විකාශය - 2022.07.07...</td>\n",
       "      <td>2034.0</td>\n",
       "      <td>136384.0</td>\n",
       "    </tr>\n",
       "  </tbody>\n",
       "</table>\n",
       "<p>10439 rows × 4 columns</p>\n",
       "</div>"
      ],
      "text/plain": [
       "               vid                                              title  \\\n",
       "0      G6mag86ktZA          Is there such a thing as Cheating in Art?   \n",
       "1      ovxXYMsz37g      The Price of Education In China | Gen 跟 China   \n",
       "2      B5GrU_ZgHwc            Poco F1 - World’s BEST Flagship Killer!   \n",
       "3      zCe72UH4Mto     Food Storage Tour For Family Of 14 🥳😁😘 #shorts   \n",
       "4      MeNlYwUpduU  Mit diesem 10-Minuten-Workout verbrennst du or...   \n",
       "...            ...                                                ...   \n",
       "10434  FMQyW5Dktdw  Tech House Mix 2021 (Fisher, James Hype, Cloon...   \n",
       "10435  w15pCPU2-cA  Nothing Phone (1) Indian Retail Unit Unboxing ...   \n",
       "10436  _1AjMAPtmtQ  Japan swelters in its worst heatwave ever reco...   \n",
       "10437  sXdfRYyzbmU         Elon Musk Wants to Revolutionize Education   \n",
       "10438  K24iHkQ4umE  අද දෙරණ 6.55 ප්‍රධාන පුවත් විකාශය - 2022.07.07...   \n",
       "\n",
       "       duration      views  \n",
       "0          52.0  1660431.0  \n",
       "1         890.0   139509.0  \n",
       "2         414.0   355078.0  \n",
       "3          60.0   357259.0  \n",
       "4         605.0  1174834.0  \n",
       "...         ...        ...  \n",
       "10434    3943.0  2053418.0  \n",
       "10435     806.0  2809943.0  \n",
       "10436     178.0  1343490.0  \n",
       "10437     151.0  1255927.0  \n",
       "10438    2034.0   136384.0  \n",
       "\n",
       "[10439 rows x 4 columns]"
      ]
     },
     "execution_count": 4,
     "metadata": {},
     "output_type": "execute_result"
    }
   ],
   "source": [
    "info_df = pd.read_csv('InitDataset/infos.csv')\n",
    "info_df"
   ]
  },
  {
   "cell_type": "code",
   "execution_count": 5,
   "id": "ed32d844",
   "metadata": {},
   "outputs": [
    {
     "data": {
      "text/plain": [
       "'count of transcript: 4144'"
      ]
     },
     "execution_count": 5,
     "metadata": {},
     "output_type": "execute_result"
    }
   ],
   "source": [
    "'count of transcript: ' + str(len(os.listdir('InitDataset/Transcripts/')))"
   ]
  },
  {
   "cell_type": "markdown",
   "id": "2315c917",
   "metadata": {},
   "source": [
    "# 2. Data Pre-process\n"
   ]
  },
  {
   "cell_type": "markdown",
   "id": "5cf37e5a",
   "metadata": {},
   "source": [
    "## 2.1 Drop Empty & Duplicate"
   ]
  },
  {
   "cell_type": "markdown",
   "id": "0e49b741",
   "metadata": {},
   "source": [
    "### 2.1.1 去除没有获取到内容的内部信息"
   ]
  },
  {
   "cell_type": "code",
   "execution_count": 2,
   "id": "e1052f59",
   "metadata": {},
   "outputs": [],
   "source": [
    "info_df = pd.read_csv('InitDataset/infos.csv')\n",
    "comment_df = pd.read_csv('InitDataset/comments.csv')"
   ]
  },
  {
   "cell_type": "code",
   "execution_count": 3,
   "id": "4b73c658",
   "metadata": {},
   "outputs": [],
   "source": [
    "# 检查三者的为空情况\n",
    "pass"
   ]
  },
  {
   "cell_type": "code",
   "execution_count": 4,
   "id": "ad08422e",
   "metadata": {},
   "outputs": [
    {
     "data": {
      "text/plain": [
       "0"
      ]
     },
     "execution_count": 4,
     "metadata": {},
     "output_type": "execute_result"
    }
   ],
   "source": [
    "# transcript 有75个video是空的，lines <5 -> 空\n",
    "nan_transcript_ids = set()\n",
    "for file in os.listdir(TRANSCRIPT_FOLDER):\n",
    "    if file == '.DS_Store':\n",
    "        continue\n",
    "    with open(os.path.join(TRANSCRIPT_FOLDER, file), 'r')as f:\n",
    "        lines = f.readlines()\n",
    "        if len(lines) <= 5:\n",
    "            vid = file.split('.')[0]\n",
    "            nan_transcript_ids.add(vid)\n",
    "len(nan_transcript_ids)"
   ]
  },
  {
   "cell_type": "code",
   "execution_count": 5,
   "id": "6b171aaf",
   "metadata": {},
   "outputs": [],
   "source": [
    "import shutil\n",
    "# 删除内部为空信息\n",
    "# transcript\n",
    "for vid in nan_transcript_ids:\n",
    "    file_path = os.path.join(TRANSCRIPT_FOLDER, vid+'.csv')\n",
    "    shutil.move(file_path, 'InitDataset/deletedTranscripts/' + vid+'.csv') \n",
    "# comment\n",
    "comment_df = comment_df.dropna(subset=['content'])\n",
    "# info\n",
    "info_df = info_df.dropna(subset=['title'])"
   ]
  },
  {
   "cell_type": "code",
   "execution_count": 6,
   "id": "4f7153e3",
   "metadata": {
    "scrolled": true
   },
   "outputs": [
    {
     "name": "stdout",
     "output_type": "stream",
     "text": [
      "Count:\n",
      "Information: 10439\n",
      "Comments: 2219406\n",
      "Transcript: 2949\n"
     ]
    }
   ],
   "source": [
    "print('Count:')\n",
    "print('Information: {}'.format(info_df.shape[0]))\n",
    "print('Comments: {}'.format(comment_df.shape[0]))\n",
    "print('Transcript: {}'.format(len(os.listdir(TRANSCRIPT_FOLDER))))"
   ]
  },
  {
   "cell_type": "markdown",
   "id": "b9faf832",
   "metadata": {},
   "source": [
    "### 2.1.2 删除冗余信息\n",
    "因为vid是唯一的，而transcript与vid是一一对应关系，transcript不可能有冗余信息"
   ]
  },
  {
   "cell_type": "code",
   "execution_count": 7,
   "id": "263b4c5e",
   "metadata": {},
   "outputs": [],
   "source": [
    "# Comment & Info 删除冗余信息，\n",
    "comment_df = comment_df.drop_duplicates(['uid', 'content'])\n",
    "info_df = info_df.drop_duplicates(['vid'])"
   ]
  },
  {
   "cell_type": "code",
   "execution_count": 8,
   "id": "8dcfa682",
   "metadata": {},
   "outputs": [],
   "source": [
    "# 去除info/comment/transcript 任一为空的所有信息\n",
    "transcript_vids = set(file.split('.')[0]for file in os.listdir(TRANSCRIPT_FOLDER))\n",
    "vids = set(info_df['vid']) & set(comment_df['vid']) & transcript_vids\n",
    "\n",
    "info_df = info_df[info_df['vid'].isin(vids)]\n",
    "comment_df = comment_df[comment_df['vid'].isin(vids)]"
   ]
  },
  {
   "cell_type": "code",
   "execution_count": 9,
   "id": "07d325f8",
   "metadata": {},
   "outputs": [],
   "source": [
    "# video\n",
    "count = 0\n",
    "for file in os.listdir(TRANSCRIPT_FOLDER):\n",
    "    vid = file.split('.')[0]\n",
    "    if vid not in vids:\n",
    "        # 重新移动文件\n",
    "        file_path = os.path.join(TRANSCRIPT_FOLDER, file)\n",
    "        new_file_path = os.path.join('InitDataset/deletedTranscripts/', file)\n",
    "        shutil.move(file_path, new_file_path)\n",
    "        count += 1"
   ]
  },
  {
   "cell_type": "code",
   "execution_count": 10,
   "id": "d145886c",
   "metadata": {
    "scrolled": true
   },
   "outputs": [
    {
     "data": {
      "text/plain": [
       "634"
      ]
     },
     "execution_count": 10,
     "metadata": {},
     "output_type": "execute_result"
    }
   ],
   "source": [
    "count"
   ]
  },
  {
   "cell_type": "code",
   "execution_count": 10,
   "id": "b0cab7c5",
   "metadata": {
    "scrolled": true
   },
   "outputs": [
    {
     "name": "stdout",
     "output_type": "stream",
     "text": [
      "Count:\n",
      "Information: 2949\n",
      "Comments: 281723\n",
      "Transcript: 2949\n"
     ]
    }
   ],
   "source": [
    "print('Count:')\n",
    "print('Information: {}'.format(info_df.shape[0]))\n",
    "print('Comments: {}'.format(comment_df.shape[0]))\n",
    "print('Transcript: {}'.format(len(os.listdir(TRANSCRIPT_FOLDER))))"
   ]
  },
  {
   "cell_type": "markdown",
   "id": "922e47bc",
   "metadata": {},
   "source": [
    "### (2.1.3) 补足tag"
   ]
  },
  {
   "cell_type": "code",
   "execution_count": 11,
   "id": "14ec199e",
   "metadata": {},
   "outputs": [],
   "source": [
    "# tag\n",
    "info_df.head()\n",
    "video_df = pd.read_csv('InitDataset/videos.csv')\n",
    "info_df = pd.merge(info_df, video_df, on='vid', how='left')"
   ]
  },
  {
   "cell_type": "code",
   "execution_count": 12,
   "id": "c1074a7f",
   "metadata": {},
   "outputs": [],
   "source": [
    "# tag from old dataset\n",
    "old_info_df = pd.read_csv(\"Dataset/infos.csv\")\n",
    "old_info_df[['vid', 'tag']]\n",
    "info_df = pd.merge(info_df, old_info_df[['vid', 'tag']], on ='vid', how= 'left')"
   ]
  },
  {
   "cell_type": "code",
   "execution_count": 13,
   "id": "c18c8fbe",
   "metadata": {},
   "outputs": [
    {
     "data": {
      "text/html": [
       "<div>\n",
       "<style scoped>\n",
       "    .dataframe tbody tr th:only-of-type {\n",
       "        vertical-align: middle;\n",
       "    }\n",
       "\n",
       "    .dataframe tbody tr th {\n",
       "        vertical-align: top;\n",
       "    }\n",
       "\n",
       "    .dataframe thead th {\n",
       "        text-align: right;\n",
       "    }\n",
       "</style>\n",
       "<table border=\"1\" class=\"dataframe\">\n",
       "  <thead>\n",
       "    <tr style=\"text-align: right;\">\n",
       "      <th></th>\n",
       "      <th>vid</th>\n",
       "      <th>title</th>\n",
       "      <th>duration</th>\n",
       "      <th>views</th>\n",
       "      <th>tag_x</th>\n",
       "      <th>tag_y</th>\n",
       "    </tr>\n",
       "  </thead>\n",
       "  <tbody>\n",
       "    <tr>\n",
       "      <th>0</th>\n",
       "      <td>G6mag86ktZA</td>\n",
       "      <td>Is there such a thing as Cheating in Art?</td>\n",
       "      <td>52.0</td>\n",
       "      <td>1660431.0</td>\n",
       "      <td>Art</td>\n",
       "      <td>Art</td>\n",
       "    </tr>\n",
       "    <tr>\n",
       "      <th>1</th>\n",
       "      <td>zCe72UH4Mto</td>\n",
       "      <td>Food Storage Tour For Family Of 14 🥳😁😘 #shorts</td>\n",
       "      <td>60.0</td>\n",
       "      <td>357259.0</td>\n",
       "      <td>NaN</td>\n",
       "      <td>Food</td>\n",
       "    </tr>\n",
       "    <tr>\n",
       "      <th>2</th>\n",
       "      <td>gspByZ11jjo</td>\n",
       "      <td>FASHION PHOTO RUVIEW: Drag Race: All Stars Sea...</td>\n",
       "      <td>904.0</td>\n",
       "      <td>455895.0</td>\n",
       "      <td>Fashion</td>\n",
       "      <td>Fashion</td>\n",
       "    </tr>\n",
       "    <tr>\n",
       "      <th>3</th>\n",
       "      <td>YAcVMBJewfI</td>\n",
       "      <td>Best Pancake Art Wins $5,000 Challenge!</td>\n",
       "      <td>777.0</td>\n",
       "      <td>3562379.0</td>\n",
       "      <td>Art</td>\n",
       "      <td>Art</td>\n",
       "    </tr>\n",
       "    <tr>\n",
       "      <th>4</th>\n",
       "      <td>tXyYbsHkYEs</td>\n",
       "      <td>Nooraniyat, 2021 - A Manish Malhotra Couture F...</td>\n",
       "      <td>212.0</td>\n",
       "      <td>841491.0</td>\n",
       "      <td>NaN</td>\n",
       "      <td>Fashion</td>\n",
       "    </tr>\n",
       "    <tr>\n",
       "      <th>...</th>\n",
       "      <td>...</td>\n",
       "      <td>...</td>\n",
       "      <td>...</td>\n",
       "      <td>...</td>\n",
       "      <td>...</td>\n",
       "      <td>...</td>\n",
       "    </tr>\n",
       "    <tr>\n",
       "      <th>3040</th>\n",
       "      <td>2XL61p2E7lw</td>\n",
       "      <td>Chelsea agree £47.5m fee with Manchester City ...</td>\n",
       "      <td>172.0</td>\n",
       "      <td>217568.0</td>\n",
       "      <td>Sport</td>\n",
       "      <td>NaN</td>\n",
       "    </tr>\n",
       "    <tr>\n",
       "      <th>3041</th>\n",
       "      <td>MSSi4DoxFFk</td>\n",
       "      <td>I Made a Life-Size Tech Deck!</td>\n",
       "      <td>721.0</td>\n",
       "      <td>1180289.0</td>\n",
       "      <td>Tech</td>\n",
       "      <td>NaN</td>\n",
       "    </tr>\n",
       "    <tr>\n",
       "      <th>3042</th>\n",
       "      <td>oQyts-evKyY</td>\n",
       "      <td>WHO DRAWS IT BETTER TAKES THE PRIZE | Cool Art...</td>\n",
       "      <td>1029.0</td>\n",
       "      <td>1281112.0</td>\n",
       "      <td>Art</td>\n",
       "      <td>NaN</td>\n",
       "    </tr>\n",
       "    <tr>\n",
       "      <th>3043</th>\n",
       "      <td>w15pCPU2-cA</td>\n",
       "      <td>Nothing Phone (1) Indian Retail Unit Unboxing ...</td>\n",
       "      <td>806.0</td>\n",
       "      <td>2809943.0</td>\n",
       "      <td>Tech</td>\n",
       "      <td>NaN</td>\n",
       "    </tr>\n",
       "    <tr>\n",
       "      <th>3044</th>\n",
       "      <td>_1AjMAPtmtQ</td>\n",
       "      <td>Japan swelters in its worst heatwave ever reco...</td>\n",
       "      <td>178.0</td>\n",
       "      <td>1343490.0</td>\n",
       "      <td>News</td>\n",
       "      <td>NaN</td>\n",
       "    </tr>\n",
       "  </tbody>\n",
       "</table>\n",
       "<p>3045 rows × 6 columns</p>\n",
       "</div>"
      ],
      "text/plain": [
       "              vid                                              title  \\\n",
       "0     G6mag86ktZA          Is there such a thing as Cheating in Art?   \n",
       "1     zCe72UH4Mto     Food Storage Tour For Family Of 14 🥳😁😘 #shorts   \n",
       "2     gspByZ11jjo  FASHION PHOTO RUVIEW: Drag Race: All Stars Sea...   \n",
       "3     YAcVMBJewfI            Best Pancake Art Wins $5,000 Challenge!   \n",
       "4     tXyYbsHkYEs  Nooraniyat, 2021 - A Manish Malhotra Couture F...   \n",
       "...           ...                                                ...   \n",
       "3040  2XL61p2E7lw  Chelsea agree £47.5m fee with Manchester City ...   \n",
       "3041  MSSi4DoxFFk                      I Made a Life-Size Tech Deck!   \n",
       "3042  oQyts-evKyY  WHO DRAWS IT BETTER TAKES THE PRIZE | Cool Art...   \n",
       "3043  w15pCPU2-cA  Nothing Phone (1) Indian Retail Unit Unboxing ...   \n",
       "3044  _1AjMAPtmtQ  Japan swelters in its worst heatwave ever reco...   \n",
       "\n",
       "      duration      views    tag_x    tag_y  \n",
       "0         52.0  1660431.0      Art      Art  \n",
       "1         60.0   357259.0      NaN     Food  \n",
       "2        904.0   455895.0  Fashion  Fashion  \n",
       "3        777.0  3562379.0      Art      Art  \n",
       "4        212.0   841491.0      NaN  Fashion  \n",
       "...        ...        ...      ...      ...  \n",
       "3040     172.0   217568.0    Sport      NaN  \n",
       "3041     721.0  1180289.0     Tech      NaN  \n",
       "3042    1029.0  1281112.0      Art      NaN  \n",
       "3043     806.0  2809943.0     Tech      NaN  \n",
       "3044     178.0  1343490.0     News      NaN  \n",
       "\n",
       "[3045 rows x 6 columns]"
      ]
     },
     "execution_count": 13,
     "metadata": {},
     "output_type": "execute_result"
    }
   ],
   "source": [
    "info_df"
   ]
  },
  {
   "cell_type": "code",
   "execution_count": 14,
   "id": "7fbb9089",
   "metadata": {},
   "outputs": [],
   "source": [
    "info_df['tag'] = info_df['tag_x'].fillna(info_df['tag_y'])"
   ]
  },
  {
   "cell_type": "code",
   "execution_count": 15,
   "id": "9ac2dc3d",
   "metadata": {
    "scrolled": true
   },
   "outputs": [],
   "source": [
    "info_df = info_df.drop(columns=['tag_x', 'tag_y'])"
   ]
  },
  {
   "cell_type": "code",
   "execution_count": 16,
   "id": "25a8d78a",
   "metadata": {},
   "outputs": [
    {
     "data": {
      "text/html": [
       "<div>\n",
       "<style scoped>\n",
       "    .dataframe tbody tr th:only-of-type {\n",
       "        vertical-align: middle;\n",
       "    }\n",
       "\n",
       "    .dataframe tbody tr th {\n",
       "        vertical-align: top;\n",
       "    }\n",
       "\n",
       "    .dataframe thead th {\n",
       "        text-align: right;\n",
       "    }\n",
       "</style>\n",
       "<table border=\"1\" class=\"dataframe\">\n",
       "  <thead>\n",
       "    <tr style=\"text-align: right;\">\n",
       "      <th></th>\n",
       "      <th>vid</th>\n",
       "      <th>title</th>\n",
       "      <th>duration</th>\n",
       "      <th>views</th>\n",
       "      <th>tag</th>\n",
       "    </tr>\n",
       "  </thead>\n",
       "  <tbody>\n",
       "    <tr>\n",
       "      <th>5</th>\n",
       "      <td>x84EpL-b_lU</td>\n",
       "      <td>New Florida law makes blaring loud music a pun...</td>\n",
       "      <td>231.0</td>\n",
       "      <td>1799.0</td>\n",
       "      <td>NaN</td>\n",
       "    </tr>\n",
       "    <tr>\n",
       "      <th>9</th>\n",
       "      <td>oNYua4TKXyk</td>\n",
       "      <td>CHOOSE YOUR LIFE - Best Motivational Speeches ...</td>\n",
       "      <td>1666.0</td>\n",
       "      <td>232041.0</td>\n",
       "      <td>NaN</td>\n",
       "    </tr>\n",
       "    <tr>\n",
       "      <th>11</th>\n",
       "      <td>H6VVIoYwY8c</td>\n",
       "      <td>WILLPOWER - Best Motivational Video Speeches C...</td>\n",
       "      <td>1502.0</td>\n",
       "      <td>149650.0</td>\n",
       "      <td>NaN</td>\n",
       "    </tr>\n",
       "    <tr>\n",
       "      <th>28</th>\n",
       "      <td>VdFW-CCqdJw</td>\n",
       "      <td>Nightly News Full Broadcast - June 25</td>\n",
       "      <td>1300.0</td>\n",
       "      <td>835276.0</td>\n",
       "      <td>NaN</td>\n",
       "    </tr>\n",
       "    <tr>\n",
       "      <th>40</th>\n",
       "      <td>nuSHSnnz4cg</td>\n",
       "      <td>Forbidden Food Tour in Cairo!! Egypt’s EXOTIC ...</td>\n",
       "      <td>1234.0</td>\n",
       "      <td>2495196.0</td>\n",
       "      <td>NaN</td>\n",
       "    </tr>\n",
       "    <tr>\n",
       "      <th>...</th>\n",
       "      <td>...</td>\n",
       "      <td>...</td>\n",
       "      <td>...</td>\n",
       "      <td>...</td>\n",
       "      <td>...</td>\n",
       "    </tr>\n",
       "    <tr>\n",
       "      <th>1842</th>\n",
       "      <td>uBZhjmYRWfg</td>\n",
       "      <td>Supreme Court rules on \"Remain in Mexico\" poli...</td>\n",
       "      <td>1615.0</td>\n",
       "      <td>87860.0</td>\n",
       "      <td>NaN</td>\n",
       "    </tr>\n",
       "    <tr>\n",
       "      <th>1845</th>\n",
       "      <td>oavehGUbLLA</td>\n",
       "      <td>Summertime declutter and clean with me ! Summe...</td>\n",
       "      <td>1534.0</td>\n",
       "      <td>34207.0</td>\n",
       "      <td>NaN</td>\n",
       "    </tr>\n",
       "    <tr>\n",
       "      <th>1884</th>\n",
       "      <td>FdO1uMtls44</td>\n",
       "      <td>News 1st: Lunch Time Sinhala News | (29-06-202...</td>\n",
       "      <td>1482.0</td>\n",
       "      <td>63050.0</td>\n",
       "      <td>NaN</td>\n",
       "    </tr>\n",
       "    <tr>\n",
       "      <th>1903</th>\n",
       "      <td>ozrNyGwbcD8</td>\n",
       "      <td>MOVING VLOG: my dream apartment, move-in day, ...</td>\n",
       "      <td>1589.0</td>\n",
       "      <td>155357.0</td>\n",
       "      <td>NaN</td>\n",
       "    </tr>\n",
       "    <tr>\n",
       "      <th>1914</th>\n",
       "      <td>Ku7hEYJOO1c</td>\n",
       "      <td>Take Action! It's Gonna Be Hard, And That's Wh...</td>\n",
       "      <td>1411.0</td>\n",
       "      <td>48720.0</td>\n",
       "      <td>NaN</td>\n",
       "    </tr>\n",
       "  </tbody>\n",
       "</table>\n",
       "<p>137 rows × 5 columns</p>\n",
       "</div>"
      ],
      "text/plain": [
       "              vid                                              title  \\\n",
       "5     x84EpL-b_lU  New Florida law makes blaring loud music a pun...   \n",
       "9     oNYua4TKXyk  CHOOSE YOUR LIFE - Best Motivational Speeches ...   \n",
       "11    H6VVIoYwY8c  WILLPOWER - Best Motivational Video Speeches C...   \n",
       "28    VdFW-CCqdJw              Nightly News Full Broadcast - June 25   \n",
       "40    nuSHSnnz4cg  Forbidden Food Tour in Cairo!! Egypt’s EXOTIC ...   \n",
       "...           ...                                                ...   \n",
       "1842  uBZhjmYRWfg  Supreme Court rules on \"Remain in Mexico\" poli...   \n",
       "1845  oavehGUbLLA  Summertime declutter and clean with me ! Summe...   \n",
       "1884  FdO1uMtls44  News 1st: Lunch Time Sinhala News | (29-06-202...   \n",
       "1903  ozrNyGwbcD8  MOVING VLOG: my dream apartment, move-in day, ...   \n",
       "1914  Ku7hEYJOO1c  Take Action! It's Gonna Be Hard, And That's Wh...   \n",
       "\n",
       "      duration      views  tag  \n",
       "5        231.0     1799.0  NaN  \n",
       "9       1666.0   232041.0  NaN  \n",
       "11      1502.0   149650.0  NaN  \n",
       "28      1300.0   835276.0  NaN  \n",
       "40      1234.0  2495196.0  NaN  \n",
       "...        ...        ...  ...  \n",
       "1842    1615.0    87860.0  NaN  \n",
       "1845    1534.0    34207.0  NaN  \n",
       "1884    1482.0    63050.0  NaN  \n",
       "1903    1589.0   155357.0  NaN  \n",
       "1914    1411.0    48720.0  NaN  \n",
       "\n",
       "[137 rows x 5 columns]"
      ]
     },
     "execution_count": 16,
     "metadata": {},
     "output_type": "execute_result"
    }
   ],
   "source": [
    "info_df[info_df['tag'].isnull()]"
   ]
  },
  {
   "cell_type": "markdown",
   "id": "f9f27917",
   "metadata": {},
   "source": [
    "## 2.2 Reformat\n",
    "这里放一些客观需要处理的部分，比如将views，duration转换成数值模式，比如将nan填补成0"
   ]
  },
  {
   "cell_type": "code",
   "execution_count": null,
   "id": "c4cb0847",
   "metadata": {},
   "outputs": [],
   "source": []
  },
  {
   "cell_type": "markdown",
   "id": "419f6ca2",
   "metadata": {},
   "source": [
    "### 2.2.1 Information"
   ]
  },
  {
   "cell_type": "code",
   "execution_count": 17,
   "id": "8f9d2265",
   "metadata": {},
   "outputs": [
    {
     "data": {
      "text/html": [
       "<div>\n",
       "<style scoped>\n",
       "    .dataframe tbody tr th:only-of-type {\n",
       "        vertical-align: middle;\n",
       "    }\n",
       "\n",
       "    .dataframe tbody tr th {\n",
       "        vertical-align: top;\n",
       "    }\n",
       "\n",
       "    .dataframe thead th {\n",
       "        text-align: right;\n",
       "    }\n",
       "</style>\n",
       "<table border=\"1\" class=\"dataframe\">\n",
       "  <thead>\n",
       "    <tr style=\"text-align: right;\">\n",
       "      <th></th>\n",
       "      <th>duration</th>\n",
       "      <th>views</th>\n",
       "    </tr>\n",
       "  </thead>\n",
       "  <tbody>\n",
       "    <tr>\n",
       "      <th>count</th>\n",
       "      <td>3045.000000</td>\n",
       "      <td>3.045000e+03</td>\n",
       "    </tr>\n",
       "    <tr>\n",
       "      <th>mean</th>\n",
       "      <td>661.211823</td>\n",
       "      <td>1.552955e+07</td>\n",
       "    </tr>\n",
       "    <tr>\n",
       "      <th>std</th>\n",
       "      <td>416.536901</td>\n",
       "      <td>1.434029e+08</td>\n",
       "    </tr>\n",
       "    <tr>\n",
       "      <th>min</th>\n",
       "      <td>13.000000</td>\n",
       "      <td>1.062000e+03</td>\n",
       "    </tr>\n",
       "    <tr>\n",
       "      <th>25%</th>\n",
       "      <td>312.000000</td>\n",
       "      <td>1.608480e+05</td>\n",
       "    </tr>\n",
       "    <tr>\n",
       "      <th>50%</th>\n",
       "      <td>593.000000</td>\n",
       "      <td>7.387490e+05</td>\n",
       "    </tr>\n",
       "    <tr>\n",
       "      <th>75%</th>\n",
       "      <td>930.000000</td>\n",
       "      <td>2.791309e+06</td>\n",
       "    </tr>\n",
       "    <tr>\n",
       "      <th>max</th>\n",
       "      <td>1800.000000</td>\n",
       "      <td>3.613883e+09</td>\n",
       "    </tr>\n",
       "  </tbody>\n",
       "</table>\n",
       "</div>"
      ],
      "text/plain": [
       "          duration         views\n",
       "count  3045.000000  3.045000e+03\n",
       "mean    661.211823  1.552955e+07\n",
       "std     416.536901  1.434029e+08\n",
       "min      13.000000  1.062000e+03\n",
       "25%     312.000000  1.608480e+05\n",
       "50%     593.000000  7.387490e+05\n",
       "75%     930.000000  2.791309e+06\n",
       "max    1800.000000  3.613883e+09"
      ]
     },
     "execution_count": 17,
     "metadata": {},
     "output_type": "execute_result"
    }
   ],
   "source": [
    "info_df.describe()"
   ]
  },
  {
   "cell_type": "code",
   "execution_count": 91,
   "id": "084fc79f",
   "metadata": {
    "collapsed": true
   },
   "outputs": [
    {
     "ename": "AttributeError",
     "evalue": "'float' object has no attribute 'split'",
     "output_type": "error",
     "traceback": [
      "\u001b[0;31m---------------------------------------------------------------------------\u001b[0m",
      "\u001b[0;31mAttributeError\u001b[0m                            Traceback (most recent call last)",
      "\u001b[0;32m<ipython-input-91-cc8df108550f>\u001b[0m in \u001b[0;36m<module>\u001b[0;34m\u001b[0m\n\u001b[1;32m      7\u001b[0m         \u001b[0mhour\u001b[0m \u001b[0;34m=\u001b[0m \u001b[0;36m0\u001b[0m\u001b[0;34m\u001b[0m\u001b[0;34m\u001b[0m\u001b[0m\n\u001b[1;32m      8\u001b[0m     \u001b[0;32mreturn\u001b[0m \u001b[0;34m(\u001b[0m\u001b[0mint\u001b[0m\u001b[0;34m(\u001b[0m\u001b[0mhour\u001b[0m\u001b[0;34m)\u001b[0m\u001b[0;34m*\u001b[0m \u001b[0;36m3600\u001b[0m \u001b[0;34m+\u001b[0m \u001b[0mint\u001b[0m\u001b[0;34m(\u001b[0m\u001b[0mminiute\u001b[0m\u001b[0;34m)\u001b[0m\u001b[0;34m*\u001b[0m\u001b[0;36m60\u001b[0m \u001b[0;34m+\u001b[0m \u001b[0mint\u001b[0m\u001b[0;34m(\u001b[0m\u001b[0msecond\u001b[0m\u001b[0;34m)\u001b[0m\u001b[0;34m)\u001b[0m\u001b[0;34m/\u001b[0m\u001b[0;36m60\u001b[0m\u001b[0;34m\u001b[0m\u001b[0;34m\u001b[0m\u001b[0m\n\u001b[0;32m----> 9\u001b[0;31m \u001b[0minfo_df\u001b[0m\u001b[0;34m[\u001b[0m\u001b[0;34m'duration_min'\u001b[0m\u001b[0;34m]\u001b[0m \u001b[0;34m=\u001b[0m \u001b[0minfo_df\u001b[0m\u001b[0;34m[\u001b[0m\u001b[0;34m'duration'\u001b[0m\u001b[0;34m]\u001b[0m\u001b[0;34m.\u001b[0m\u001b[0mapply\u001b[0m\u001b[0;34m(\u001b[0m\u001b[0mtrans_duration\u001b[0m\u001b[0;34m)\u001b[0m\u001b[0;34m\u001b[0m\u001b[0;34m\u001b[0m\u001b[0m\n\u001b[0m\u001b[1;32m     10\u001b[0m \u001b[0minfo_df\u001b[0m\u001b[0;34m[\u001b[0m\u001b[0;34m'duration_min'\u001b[0m\u001b[0;34m]\u001b[0m\u001b[0;34m.\u001b[0m\u001b[0mdescribe\u001b[0m\u001b[0;34m(\u001b[0m\u001b[0;34m)\u001b[0m\u001b[0;34m\u001b[0m\u001b[0;34m\u001b[0m\u001b[0m\n",
      "\u001b[0;32m~/miniforge3/envs/deeplearning/lib/python3.9/site-packages/pandas/core/series.py\u001b[0m in \u001b[0;36mapply\u001b[0;34m(self, func, convert_dtype, args, **kwds)\u001b[0m\n\u001b[1;32m   4136\u001b[0m             \u001b[0;32melse\u001b[0m\u001b[0;34m:\u001b[0m\u001b[0;34m\u001b[0m\u001b[0;34m\u001b[0m\u001b[0m\n\u001b[1;32m   4137\u001b[0m                 \u001b[0mvalues\u001b[0m \u001b[0;34m=\u001b[0m \u001b[0mself\u001b[0m\u001b[0;34m.\u001b[0m\u001b[0mastype\u001b[0m\u001b[0;34m(\u001b[0m\u001b[0mobject\u001b[0m\u001b[0;34m)\u001b[0m\u001b[0;34m.\u001b[0m\u001b[0m_values\u001b[0m\u001b[0;34m\u001b[0m\u001b[0;34m\u001b[0m\u001b[0m\n\u001b[0;32m-> 4138\u001b[0;31m                 \u001b[0mmapped\u001b[0m \u001b[0;34m=\u001b[0m \u001b[0mlib\u001b[0m\u001b[0;34m.\u001b[0m\u001b[0mmap_infer\u001b[0m\u001b[0;34m(\u001b[0m\u001b[0mvalues\u001b[0m\u001b[0;34m,\u001b[0m \u001b[0mf\u001b[0m\u001b[0;34m,\u001b[0m \u001b[0mconvert\u001b[0m\u001b[0;34m=\u001b[0m\u001b[0mconvert_dtype\u001b[0m\u001b[0;34m)\u001b[0m\u001b[0;34m\u001b[0m\u001b[0;34m\u001b[0m\u001b[0m\n\u001b[0m\u001b[1;32m   4139\u001b[0m \u001b[0;34m\u001b[0m\u001b[0m\n\u001b[1;32m   4140\u001b[0m         \u001b[0;32mif\u001b[0m \u001b[0mlen\u001b[0m\u001b[0;34m(\u001b[0m\u001b[0mmapped\u001b[0m\u001b[0;34m)\u001b[0m \u001b[0;32mand\u001b[0m \u001b[0misinstance\u001b[0m\u001b[0;34m(\u001b[0m\u001b[0mmapped\u001b[0m\u001b[0;34m[\u001b[0m\u001b[0;36m0\u001b[0m\u001b[0;34m]\u001b[0m\u001b[0;34m,\u001b[0m \u001b[0mSeries\u001b[0m\u001b[0;34m)\u001b[0m\u001b[0;34m:\u001b[0m\u001b[0;34m\u001b[0m\u001b[0;34m\u001b[0m\u001b[0m\n",
      "\u001b[0;32mpandas/_libs/lib.pyx\u001b[0m in \u001b[0;36mpandas._libs.lib.map_infer\u001b[0;34m()\u001b[0m\n",
      "\u001b[0;32m<ipython-input-91-cc8df108550f>\u001b[0m in \u001b[0;36mtrans_duration\u001b[0;34m(string)\u001b[0m\n\u001b[1;32m      1\u001b[0m \u001b[0;31m# trans_duration 将duration转换成min\u001b[0m\u001b[0;34m\u001b[0m\u001b[0;34m\u001b[0m\u001b[0;34m\u001b[0m\u001b[0m\n\u001b[1;32m      2\u001b[0m \u001b[0;32mdef\u001b[0m \u001b[0mtrans_duration\u001b[0m\u001b[0;34m(\u001b[0m\u001b[0mstring\u001b[0m\u001b[0;34m)\u001b[0m\u001b[0;34m:\u001b[0m\u001b[0;34m\u001b[0m\u001b[0;34m\u001b[0m\u001b[0m\n\u001b[0;32m----> 3\u001b[0;31m     \u001b[0mminiute\u001b[0m\u001b[0;34m,\u001b[0m \u001b[0msecond\u001b[0m \u001b[0;34m=\u001b[0m \u001b[0mstring\u001b[0m\u001b[0;34m.\u001b[0m\u001b[0msplit\u001b[0m\u001b[0;34m(\u001b[0m\u001b[0;34m':'\u001b[0m\u001b[0;34m)\u001b[0m\u001b[0;34m[\u001b[0m\u001b[0;34m-\u001b[0m\u001b[0;36m2\u001b[0m\u001b[0;34m]\u001b[0m\u001b[0;34m,\u001b[0m \u001b[0mstring\u001b[0m\u001b[0;34m.\u001b[0m\u001b[0msplit\u001b[0m\u001b[0;34m(\u001b[0m\u001b[0;34m':'\u001b[0m\u001b[0;34m)\u001b[0m\u001b[0;34m[\u001b[0m\u001b[0;34m-\u001b[0m\u001b[0;36m1\u001b[0m\u001b[0;34m]\u001b[0m\u001b[0;34m\u001b[0m\u001b[0;34m\u001b[0m\u001b[0m\n\u001b[0m\u001b[1;32m      4\u001b[0m     \u001b[0;32mif\u001b[0m \u001b[0mlen\u001b[0m\u001b[0;34m(\u001b[0m\u001b[0mstring\u001b[0m\u001b[0;34m.\u001b[0m\u001b[0msplit\u001b[0m\u001b[0;34m(\u001b[0m\u001b[0;34m':'\u001b[0m\u001b[0;34m)\u001b[0m\u001b[0;34m)\u001b[0m \u001b[0;34m==\u001b[0m \u001b[0;36m3\u001b[0m\u001b[0;34m:\u001b[0m\u001b[0;34m\u001b[0m\u001b[0;34m\u001b[0m\u001b[0m\n\u001b[1;32m      5\u001b[0m         \u001b[0mhour\u001b[0m \u001b[0;34m=\u001b[0m \u001b[0mstring\u001b[0m\u001b[0;34m.\u001b[0m\u001b[0msplit\u001b[0m\u001b[0;34m(\u001b[0m\u001b[0;34m':'\u001b[0m\u001b[0;34m)\u001b[0m\u001b[0;34m[\u001b[0m\u001b[0;36m0\u001b[0m\u001b[0;34m]\u001b[0m\u001b[0;34m\u001b[0m\u001b[0;34m\u001b[0m\u001b[0m\n",
      "\u001b[0;31mAttributeError\u001b[0m: 'float' object has no attribute 'split'"
     ]
    }
   ],
   "source": [
    "# trans_duration 将duration转换成min\n",
    "# 不知道为什么新的duration变成数值了不用算了\n",
    "# def trans_duration(string):\n",
    "#     miniute, second = string.split(':')[-2], string.split(':')[-1]\n",
    "#     if len(string.split(':')) == 3:\n",
    "#         hour = string.split(':')[0]\n",
    "#     else:\n",
    "#         hour = 0\n",
    "#     return (int(hour)* 3600 + int(miniute)*60 + int(second))/60\n",
    "# info_df['duration_min'] = info_df['duration'].apply(trans_duration)\n",
    "# info_df['duration_min'].describe()"
   ]
  },
  {
   "cell_type": "code",
   "execution_count": 18,
   "id": "560c5c6f",
   "metadata": {},
   "outputs": [
    {
     "data": {
      "text/plain": [
       "count    3045.000000\n",
       "mean       11.020197\n",
       "std         6.942282\n",
       "min         0.216667\n",
       "25%         5.200000\n",
       "50%         9.883333\n",
       "75%        15.500000\n",
       "max        30.000000\n",
       "Name: duration_min, dtype: float64"
      ]
     },
     "execution_count": 18,
     "metadata": {},
     "output_type": "execute_result"
    }
   ],
   "source": [
    "info_df['duration_min'] = info_df['duration'].apply(lambda x: x/60)\n",
    "info_df['duration_min'].describe()"
   ]
  },
  {
   "cell_type": "code",
   "execution_count": 19,
   "id": "5fb1c21d",
   "metadata": {},
   "outputs": [],
   "source": [
    "# views\n",
    "# def trans_views(string):\n",
    "#     try:\n",
    "#         return int(string.strip('views').replace(',',''))/10000\n",
    "#     except:\n",
    "#         return \n",
    "# info_df['view_10k'] = info_df['views'].apply(trans_views)\n",
    "# info_df['view_10k'].head()"
   ]
  },
  {
   "cell_type": "code",
   "execution_count": 20,
   "id": "d6fa0fb7",
   "metadata": {},
   "outputs": [],
   "source": [
    "info_df['view_10k'] = info_df['views'].apply(lambda x:x/10000)"
   ]
  },
  {
   "cell_type": "code",
   "execution_count": 45,
   "id": "0826475a",
   "metadata": {
    "scrolled": false
   },
   "outputs": [],
   "source": [
    "info_df['title'] = info_df['title'].apply(filter_str)"
   ]
  },
  {
   "cell_type": "code",
   "execution_count": 46,
   "id": "ea6c6f6f",
   "metadata": {
    "scrolled": true
   },
   "outputs": [
    {
     "data": {
      "text/html": [
       "<div>\n",
       "<style scoped>\n",
       "    .dataframe tbody tr th:only-of-type {\n",
       "        vertical-align: middle;\n",
       "    }\n",
       "\n",
       "    .dataframe tbody tr th {\n",
       "        vertical-align: top;\n",
       "    }\n",
       "\n",
       "    .dataframe thead th {\n",
       "        text-align: right;\n",
       "    }\n",
       "</style>\n",
       "<table border=\"1\" class=\"dataframe\">\n",
       "  <thead>\n",
       "    <tr style=\"text-align: right;\">\n",
       "      <th></th>\n",
       "      <th>duration</th>\n",
       "      <th>views</th>\n",
       "      <th>duration_min</th>\n",
       "      <th>view_10k</th>\n",
       "    </tr>\n",
       "  </thead>\n",
       "  <tbody>\n",
       "    <tr>\n",
       "      <th>count</th>\n",
       "      <td>2949.000000</td>\n",
       "      <td>2.949000e+03</td>\n",
       "      <td>2949.000000</td>\n",
       "      <td>2949.000000</td>\n",
       "    </tr>\n",
       "    <tr>\n",
       "      <th>mean</th>\n",
       "      <td>665.162767</td>\n",
       "      <td>1.488720e+07</td>\n",
       "      <td>11.086046</td>\n",
       "      <td>1488.719776</td>\n",
       "    </tr>\n",
       "    <tr>\n",
       "      <th>std</th>\n",
       "      <td>418.541528</td>\n",
       "      <td>1.421555e+08</td>\n",
       "      <td>6.975692</td>\n",
       "      <td>14215.552333</td>\n",
       "    </tr>\n",
       "    <tr>\n",
       "      <th>min</th>\n",
       "      <td>13.000000</td>\n",
       "      <td>1.062000e+03</td>\n",
       "      <td>0.216667</td>\n",
       "      <td>0.106200</td>\n",
       "    </tr>\n",
       "    <tr>\n",
       "      <th>25%</th>\n",
       "      <td>315.000000</td>\n",
       "      <td>1.603660e+05</td>\n",
       "      <td>5.250000</td>\n",
       "      <td>16.036600</td>\n",
       "    </tr>\n",
       "    <tr>\n",
       "      <th>50%</th>\n",
       "      <td>598.000000</td>\n",
       "      <td>7.321510e+05</td>\n",
       "      <td>9.966667</td>\n",
       "      <td>73.215100</td>\n",
       "    </tr>\n",
       "    <tr>\n",
       "      <th>75%</th>\n",
       "      <td>938.000000</td>\n",
       "      <td>2.752324e+06</td>\n",
       "      <td>15.633333</td>\n",
       "      <td>275.232400</td>\n",
       "    </tr>\n",
       "    <tr>\n",
       "      <th>max</th>\n",
       "      <td>1800.000000</td>\n",
       "      <td>3.613883e+09</td>\n",
       "      <td>30.000000</td>\n",
       "      <td>361388.324800</td>\n",
       "    </tr>\n",
       "  </tbody>\n",
       "</table>\n",
       "</div>"
      ],
      "text/plain": [
       "          duration         views  duration_min       view_10k\n",
       "count  2949.000000  2.949000e+03   2949.000000    2949.000000\n",
       "mean    665.162767  1.488720e+07     11.086046    1488.719776\n",
       "std     418.541528  1.421555e+08      6.975692   14215.552333\n",
       "min      13.000000  1.062000e+03      0.216667       0.106200\n",
       "25%     315.000000  1.603660e+05      5.250000      16.036600\n",
       "50%     598.000000  7.321510e+05      9.966667      73.215100\n",
       "75%     938.000000  2.752324e+06     15.633333     275.232400\n",
       "max    1800.000000  3.613883e+09     30.000000  361388.324800"
      ]
     },
     "execution_count": 46,
     "metadata": {},
     "output_type": "execute_result"
    }
   ],
   "source": [
    "info_df.describe()"
   ]
  },
  {
   "cell_type": "markdown",
   "id": "634ee860",
   "metadata": {},
   "source": [
    "### 2.2.2 Comment"
   ]
  },
  {
   "cell_type": "code",
   "execution_count": 22,
   "id": "04c67b04",
   "metadata": {},
   "outputs": [
    {
     "data": {
      "text/html": [
       "<div>\n",
       "<style scoped>\n",
       "    .dataframe tbody tr th:only-of-type {\n",
       "        vertical-align: middle;\n",
       "    }\n",
       "\n",
       "    .dataframe tbody tr th {\n",
       "        vertical-align: top;\n",
       "    }\n",
       "\n",
       "    .dataframe thead th {\n",
       "        text-align: right;\n",
       "    }\n",
       "</style>\n",
       "<table border=\"1\" class=\"dataframe\">\n",
       "  <thead>\n",
       "    <tr style=\"text-align: right;\">\n",
       "      <th></th>\n",
       "      <th>vid</th>\n",
       "      <th>uid</th>\n",
       "      <th>content</th>\n",
       "      <th>votes</th>\n",
       "    </tr>\n",
       "  </thead>\n",
       "  <tbody>\n",
       "    <tr>\n",
       "      <th>count</th>\n",
       "      <td>281723</td>\n",
       "      <td>281723</td>\n",
       "      <td>281723</td>\n",
       "      <td>202387</td>\n",
       "    </tr>\n",
       "    <tr>\n",
       "      <th>unique</th>\n",
       "      <td>2949</td>\n",
       "      <td>270640</td>\n",
       "      <td>263441</td>\n",
       "      <td>1178</td>\n",
       "    </tr>\n",
       "    <tr>\n",
       "      <th>top</th>\n",
       "      <td>igd18IdOcQw</td>\n",
       "      <td>UgzRCkdMDNWu3XeoMT14AaABAg</td>\n",
       "      <td>❤</td>\n",
       "      <td>1</td>\n",
       "    </tr>\n",
       "    <tr>\n",
       "      <th>freq</th>\n",
       "      <td>174</td>\n",
       "      <td>2</td>\n",
       "      <td>323</td>\n",
       "      <td>43202</td>\n",
       "    </tr>\n",
       "  </tbody>\n",
       "</table>\n",
       "</div>"
      ],
      "text/plain": [
       "                vid                         uid content   votes\n",
       "count        281723                      281723  281723  202387\n",
       "unique         2949                      270640  263441    1178\n",
       "top     igd18IdOcQw  UgzRCkdMDNWu3XeoMT14AaABAg       ❤       1\n",
       "freq            174                           2     323   43202"
      ]
     },
     "execution_count": 22,
     "metadata": {},
     "output_type": "execute_result"
    }
   ],
   "source": [
    "comment_df.describe()"
   ]
  },
  {
   "cell_type": "code",
   "execution_count": 23,
   "id": "37e695c9",
   "metadata": {},
   "outputs": [],
   "source": [
    "# votes, fill nan with 0, trans2int\n",
    "def trans_votes(string):\n",
    "    if isinstance(string, str):\n",
    "        if 'k' == string[-1].lower():\n",
    "            return float(string[:-1])*1000\n",
    "        return float(string)\n",
    "comment_df['votes'] = comment_df['votes'].fillna('0')\n",
    "comment_df['votes'] = comment_df['votes'].apply(trans_votes)"
   ]
  },
  {
   "cell_type": "code",
   "execution_count": 24,
   "id": "e93a734e",
   "metadata": {},
   "outputs": [],
   "source": [
    "# Content\n",
    "# remove Non-English\n",
    "import re\n",
    "texts = list(comment_df['content'])\n",
    "def filter_str(desstr, restr=''):\n",
    "    pattern = re.compile(\"[^a-z^A-Z^0-9^.^,^:^;^!^?^(^)^_^*^\\\"^' ]\")\n",
    "    res = pattern.sub(restr, desstr)\n",
    "    if len(desstr) > len(res)*3:\n",
    "        return ''\n",
    "    return res.strip()\n",
    "comment_df['en_content'] = comment_df['content'].apply(filter_str)"
   ]
  },
  {
   "cell_type": "code",
   "execution_count": 25,
   "id": "5d619cdc",
   "metadata": {},
   "outputs": [
    {
     "data": {
      "text/html": [
       "<div>\n",
       "<style scoped>\n",
       "    .dataframe tbody tr th:only-of-type {\n",
       "        vertical-align: middle;\n",
       "    }\n",
       "\n",
       "    .dataframe tbody tr th {\n",
       "        vertical-align: top;\n",
       "    }\n",
       "\n",
       "    .dataframe thead th {\n",
       "        text-align: right;\n",
       "    }\n",
       "</style>\n",
       "<table border=\"1\" class=\"dataframe\">\n",
       "  <thead>\n",
       "    <tr style=\"text-align: right;\">\n",
       "      <th></th>\n",
       "      <th>vid</th>\n",
       "      <th>uid</th>\n",
       "      <th>content</th>\n",
       "      <th>votes</th>\n",
       "      <th>en_content</th>\n",
       "    </tr>\n",
       "  </thead>\n",
       "  <tbody>\n",
       "    <tr>\n",
       "      <th>957</th>\n",
       "      <td>zCe72UH4Mto</td>\n",
       "      <td>Ugw9degDDAZ7XSQ4smd4AaABAg</td>\n",
       "      <td>Her:</td>\n",
       "      <td>2.0</td>\n",
       "      <td>Her:</td>\n",
       "    </tr>\n",
       "    <tr>\n",
       "      <th>1190</th>\n",
       "      <td>zCe72UH4Mto</td>\n",
       "      <td>Ugy2Nn5zhvmXGJSZ5X54AaABAg</td>\n",
       "      <td>💕</td>\n",
       "      <td>2.0</td>\n",
       "      <td></td>\n",
       "    </tr>\n",
       "    <tr>\n",
       "      <th>1606</th>\n",
       "      <td>gspByZ11jjo</td>\n",
       "      <td>Ugy90Xc2cBLg6Cg8dox4AaABAg</td>\n",
       "      <td>4:48</td>\n",
       "      <td>46.0</td>\n",
       "      <td>4:48</td>\n",
       "    </tr>\n",
       "    <tr>\n",
       "      <th>2582</th>\n",
       "      <td>tXyYbsHkYEs</td>\n",
       "      <td>UgxhoZ_j9U5ZceXiFaZ4AaABAg</td>\n",
       "      <td>1:09</td>\n",
       "      <td>1.0</td>\n",
       "      <td>1:09</td>\n",
       "    </tr>\n",
       "    <tr>\n",
       "      <th>2691</th>\n",
       "      <td>tXyYbsHkYEs</td>\n",
       "      <td>UgxZieew9qO_pS1-h3J4AaABAg</td>\n",
       "      <td>2:32</td>\n",
       "      <td>19.0</td>\n",
       "      <td>2:32</td>\n",
       "    </tr>\n",
       "    <tr>\n",
       "      <th>...</th>\n",
       "      <td>...</td>\n",
       "      <td>...</td>\n",
       "      <td>...</td>\n",
       "      <td>...</td>\n",
       "      <td>...</td>\n",
       "    </tr>\n",
       "    <tr>\n",
       "      <th>2217794</th>\n",
       "      <td>oQyts-evKyY</td>\n",
       "      <td>Ugz_Y9b72PLPrA6J6tx4AaABAg</td>\n",
       "      <td>From</td>\n",
       "      <td>2.0</td>\n",
       "      <td>From</td>\n",
       "    </tr>\n",
       "    <tr>\n",
       "      <th>2217803</th>\n",
       "      <td>oQyts-evKyY</td>\n",
       "      <td>UgxQWPRbZNYlxtEp9s54AaABAg</td>\n",
       "      <td>👎</td>\n",
       "      <td>0.0</td>\n",
       "      <td></td>\n",
       "    </tr>\n",
       "    <tr>\n",
       "      <th>2218523</th>\n",
       "      <td>w15pCPU2-cA</td>\n",
       "      <td>UgznU-YsC6p-coIDR3p4AaABAg</td>\n",
       "      <td>#FAQ</td>\n",
       "      <td>50.0</td>\n",
       "      <td>FAQ</td>\n",
       "    </tr>\n",
       "    <tr>\n",
       "      <th>2218597</th>\n",
       "      <td>w15pCPU2-cA</td>\n",
       "      <td>Ugz0qqDskvRzZMeOk_Z4AaABAg</td>\n",
       "      <td>12:59</td>\n",
       "      <td>3.0</td>\n",
       "      <td>12:59</td>\n",
       "    </tr>\n",
       "    <tr>\n",
       "      <th>2218600</th>\n",
       "      <td>w15pCPU2-cA</td>\n",
       "      <td>UgwKqlPNJeCyM-8yLvp4AaABAg</td>\n",
       "      <td>4:01</td>\n",
       "      <td>5.0</td>\n",
       "      <td>4:01</td>\n",
       "    </tr>\n",
       "  </tbody>\n",
       "</table>\n",
       "<p>24286 rows × 5 columns</p>\n",
       "</div>"
      ],
      "text/plain": [
       "                 vid                         uid content  votes en_content\n",
       "957      zCe72UH4Mto  Ugw9degDDAZ7XSQ4smd4AaABAg    Her:    2.0       Her:\n",
       "1190     zCe72UH4Mto  Ugy2Nn5zhvmXGJSZ5X54AaABAg       💕    2.0           \n",
       "1606     gspByZ11jjo  Ugy90Xc2cBLg6Cg8dox4AaABAg    4:48   46.0       4:48\n",
       "2582     tXyYbsHkYEs  UgxhoZ_j9U5ZceXiFaZ4AaABAg    1:09    1.0       1:09\n",
       "2691     tXyYbsHkYEs  UgxZieew9qO_pS1-h3J4AaABAg    2:32   19.0       2:32\n",
       "...              ...                         ...     ...    ...        ...\n",
       "2217794  oQyts-evKyY  Ugz_Y9b72PLPrA6J6tx4AaABAg    From    2.0       From\n",
       "2217803  oQyts-evKyY  UgxQWPRbZNYlxtEp9s54AaABAg       👎    0.0           \n",
       "2218523  w15pCPU2-cA  UgznU-YsC6p-coIDR3p4AaABAg    #FAQ   50.0        FAQ\n",
       "2218597  w15pCPU2-cA  Ugz0qqDskvRzZMeOk_Z4AaABAg   12:59    3.0      12:59\n",
       "2218600  w15pCPU2-cA  UgwKqlPNJeCyM-8yLvp4AaABAg    4:01    5.0       4:01\n",
       "\n",
       "[24286 rows x 5 columns]"
      ]
     },
     "execution_count": 25,
     "metadata": {},
     "output_type": "execute_result"
    }
   ],
   "source": [
    "# Content - remove less than 5 comments\n",
    "short_ids = [i for i, comment in comment_df.iterrows() if len(comment['en_content']) <= 5]\n",
    "comment_df.loc[short_ids]"
   ]
  },
  {
   "cell_type": "code",
   "execution_count": 26,
   "id": "f4e6a212",
   "metadata": {},
   "outputs": [],
   "source": [
    "comment_df.loc[short_ids].to_csv('useless_comments.csv', index=None)"
   ]
  },
  {
   "cell_type": "code",
   "execution_count": 27,
   "id": "a6f7461d",
   "metadata": {},
   "outputs": [],
   "source": [
    "comment_df.drop(index=short_ids, inplace=True)"
   ]
  },
  {
   "cell_type": "code",
   "execution_count": 28,
   "id": "1adb4cbf",
   "metadata": {},
   "outputs": [
    {
     "name": "stdout",
     "output_type": "stream",
     "text": [
      "Count:\n",
      "Information: 3045\n",
      "Comments: 257437\n",
      "Transcript: 2949\n"
     ]
    }
   ],
   "source": [
    "print('Count:')\n",
    "print('Information: {}'.format(info_df.shape[0]))\n",
    "print('Comments: {}'.format(comment_df.shape[0]))\n",
    "print('Transcript: {}'.format(len(os.listdir(TRANSCRIPT_FOLDER))))"
   ]
  },
  {
   "cell_type": "markdown",
   "id": "4079c6a5",
   "metadata": {},
   "source": [
    "### 2.2.3 Transcript 没有"
   ]
  },
  {
   "cell_type": "markdown",
   "id": "8224ac4e",
   "metadata": {},
   "source": [
    "## 2.3 further Data Process\n",
    "做一些特殊的筛选，为了模型出于主观考虑"
   ]
  },
  {
   "cell_type": "markdown",
   "id": "4f34fc0a",
   "metadata": {},
   "source": [
    "### 2.3.1 Information"
   ]
  },
  {
   "cell_type": "code",
   "execution_count": 29,
   "id": "230b8e0f",
   "metadata": {
    "scrolled": true
   },
   "outputs": [
    {
     "data": {
      "text/plain": [
       "count    3045.000000\n",
       "mean       11.020197\n",
       "std         6.942282\n",
       "min         0.216667\n",
       "25%         5.200000\n",
       "50%         9.883333\n",
       "75%        15.500000\n",
       "max        30.000000\n",
       "Name: duration_min, dtype: float64"
      ]
     },
     "execution_count": 29,
     "metadata": {},
     "output_type": "execute_result"
    }
   ],
   "source": [
    "# 去除时长过长的视频\n",
    "info_df['duration_min'].describe()"
   ]
  },
  {
   "cell_type": "code",
   "execution_count": 30,
   "id": "41f21ca2",
   "metadata": {
    "scrolled": false
   },
   "outputs": [
    {
     "data": {
      "text/plain": [
       "<AxesSubplot:>"
      ]
     },
     "execution_count": 30,
     "metadata": {},
     "output_type": "execute_result"
    },
    {
     "data": {
      "image/png": "[encoded data removed]",
      "text/plain": [
       "<Figure size 432x288 with 1 Axes>"
      ]
     },
     "metadata": {
      "needs_background": "light"
     },
     "output_type": "display_data"
    }
   ],
   "source": [
    "info_df[info_df['duration_min'] <= 30]['duration_min'].hist()"
   ]
  },
  {
   "cell_type": "code",
   "execution_count": 31,
   "id": "33e31d54",
   "metadata": {},
   "outputs": [
    {
     "data": {
      "text/plain": [
       "<AxesSubplot:>"
      ]
     },
     "execution_count": 31,
     "metadata": {},
     "output_type": "execute_result"
    },
    {
     "data": {
      "image/png": "[encoded data removed]",
      "text/plain": [
       "<Figure size 432x288 with 1 Axes>"
      ]
     },
     "metadata": {
      "needs_background": "light"
     },
     "output_type": "display_data"
    }
   ],
   "source": [
    "info_df[info_df['duration_min'] > 30]['duration_min'].hist()"
   ]
  },
  {
   "cell_type": "code",
   "execution_count": 32,
   "id": "1365421c",
   "metadata": {},
   "outputs": [],
   "source": [
    "info_df = info_df[info_df['duration_min'] <= 30]"
   ]
  },
  {
   "cell_type": "code",
   "execution_count": 33,
   "id": "d7da4ce5",
   "metadata": {},
   "outputs": [
    {
     "data": {
      "text/plain": [
       "(3045, 7)"
      ]
     },
     "execution_count": 33,
     "metadata": {},
     "output_type": "execute_result"
    }
   ],
   "source": [
    "info_df.shape"
   ]
  },
  {
   "cell_type": "markdown",
   "id": "05673ae9",
   "metadata": {},
   "source": [
    "### 2.3.1  remove frequent comments\n",
    "content h爱要改改"
   ]
  },
  {
   "cell_type": "code",
   "execution_count": 34,
   "id": "337c1cc4",
   "metadata": {},
   "outputs": [],
   "source": [
    "# remove freqen comment\n",
    "content_count = comment_df['en_content'].value_counts()\n",
    "freq_content = content_count[content_count>10].index\n",
    "comment_df = comment_df[~comment_df['en_content'].isin(freq_content)]"
   ]
  },
  {
   "cell_type": "code",
   "execution_count": 35,
   "id": "141eff82",
   "metadata": {},
   "outputs": [],
   "source": [
    "content_count[content_count>10].to_csv('InitDataset/FreqComments.csv')"
   ]
  },
  {
   "cell_type": "markdown",
   "id": "09ccd81d",
   "metadata": {},
   "source": [
    "### 2.3.2 remove longer than 30 words comments"
   ]
  },
  {
   "cell_type": "code",
   "execution_count": 36,
   "id": "45aec97c",
   "metadata": {},
   "outputs": [],
   "source": [
    "# 统计content字数和百分数\n",
    "def count_word(string):\n",
    "    return len(string.split())\n",
    "content_word_count = comment_df['en_content'].apply(lambda x: len(x.split()))"
   ]
  },
  {
   "cell_type": "code",
   "execution_count": 37,
   "id": "3dc6fb1e",
   "metadata": {},
   "outputs": [
    {
     "data": {
      "text/plain": [
       "count    254506.000000\n",
       "mean         20.241810\n",
       "std          22.206568\n",
       "min           1.000000\n",
       "25%           8.000000\n",
       "50%          14.000000\n",
       "75%          25.000000\n",
       "max        1337.000000\n",
       "Name: en_content, dtype: float64"
      ]
     },
     "execution_count": 37,
     "metadata": {},
     "output_type": "execute_result"
    }
   ],
   "source": [
    "content_word_count.describe()"
   ]
  },
  {
   "cell_type": "code",
   "execution_count": 38,
   "id": "002e1237",
   "metadata": {
    "scrolled": true
   },
   "outputs": [
    {
     "data": {
      "text/plain": [
       "count    196041.000000\n",
       "mean         13.045531\n",
       "std           7.005390\n",
       "min           3.000000\n",
       "25%           7.000000\n",
       "50%          12.000000\n",
       "75%          18.000000\n",
       "max          29.000000\n",
       "Name: en_content, dtype: float64"
      ]
     },
     "execution_count": 38,
     "metadata": {},
     "output_type": "execute_result"
    }
   ],
   "source": [
    "content_word_count[(content_word_count<30) & (content_word_count>2) ].describe()"
   ]
  },
  {
   "cell_type": "code",
   "execution_count": 178,
   "id": "2471f460",
   "metadata": {
    "scrolled": true
   },
   "outputs": [
    {
     "data": {
      "text/html": [
       "<div>\n",
       "<style scoped>\n",
       "    .dataframe tbody tr th:only-of-type {\n",
       "        vertical-align: middle;\n",
       "    }\n",
       "\n",
       "    .dataframe tbody tr th {\n",
       "        vertical-align: top;\n",
       "    }\n",
       "\n",
       "    .dataframe thead th {\n",
       "        text-align: right;\n",
       "    }\n",
       "</style>\n",
       "<table border=\"1\" class=\"dataframe\">\n",
       "  <thead>\n",
       "    <tr style=\"text-align: right;\">\n",
       "      <th></th>\n",
       "      <th>vid</th>\n",
       "      <th>uid</th>\n",
       "      <th>content</th>\n",
       "      <th>votes</th>\n",
       "      <th>en_content</th>\n",
       "    </tr>\n",
       "  </thead>\n",
       "  <tbody>\n",
       "    <tr>\n",
       "      <th>195</th>\n",
       "      <td>G6mag86ktZA</td>\n",
       "      <td>UgzS4TRZGsdpRPPf41F4AaABAg</td>\n",
       "      <td>\"Nothings cheating!\"</td>\n",
       "      <td>34.0</td>\n",
       "      <td>\"Nothings cheating!\"</td>\n",
       "    </tr>\n",
       "    <tr>\n",
       "      <th>292</th>\n",
       "      <td>G6mag86ktZA</td>\n",
       "      <td>UgwmX0s5-Zidb_00KAF4AaABAg</td>\n",
       "      <td>Remember</td>\n",
       "      <td>7.0</td>\n",
       "      <td>Remember</td>\n",
       "    </tr>\n",
       "    <tr>\n",
       "      <th>2441</th>\n",
       "      <td>tXyYbsHkYEs</td>\n",
       "      <td>UgwpBY7um-kO2HA_ITR4AaABAg</td>\n",
       "      <td>Kriti slayed</td>\n",
       "      <td>15.0</td>\n",
       "      <td>Kriti slayed</td>\n",
       "    </tr>\n",
       "    <tr>\n",
       "      <th>2450</th>\n",
       "      <td>tXyYbsHkYEs</td>\n",
       "      <td>UgwVu0O-HZEkN6mXUml4AaABAg</td>\n",
       "      <td>Wow....</td>\n",
       "      <td>13.0</td>\n",
       "      <td>Wow....</td>\n",
       "    </tr>\n",
       "    <tr>\n",
       "      <th>2503</th>\n",
       "      <td>tXyYbsHkYEs</td>\n",
       "      <td>UgxIDhUO_nTd8X2v9S94AaABAg</td>\n",
       "      <td>Absolutely stunning 🤩</td>\n",
       "      <td>7.0</td>\n",
       "      <td>Absolutely stunning</td>\n",
       "    </tr>\n",
       "    <tr>\n",
       "      <th>...</th>\n",
       "      <td>...</td>\n",
       "      <td>...</td>\n",
       "      <td>...</td>\n",
       "      <td>...</td>\n",
       "      <td>...</td>\n",
       "    </tr>\n",
       "    <tr>\n",
       "      <th>2219359</th>\n",
       "      <td>K24iHkQ4umE</td>\n",
       "      <td>UgxXrCFpbElLC6GpUQR4AaABAg</td>\n",
       "      <td>Chathura hora</td>\n",
       "      <td>3.0</td>\n",
       "      <td>Chathura hora</td>\n",
       "    </tr>\n",
       "    <tr>\n",
       "      <th>2219406</th>\n",
       "      <td>K24iHkQ4umE</td>\n",
       "      <td>UgwH4GdvxLei3OhgNDp4AaABAg</td>\n",
       "      <td>emathi baba</td>\n",
       "      <td>0.0</td>\n",
       "      <td>emathi baba</td>\n",
       "    </tr>\n",
       "    <tr>\n",
       "      <th>2219413</th>\n",
       "      <td>K24iHkQ4umE</td>\n",
       "      <td>UgzrNOqFM2pTu2bOaBB4AaABAg</td>\n",
       "      <td>para ballo</td>\n",
       "      <td>0.0</td>\n",
       "      <td>para ballo</td>\n",
       "    </tr>\n",
       "    <tr>\n",
       "      <th>2219414</th>\n",
       "      <td>K24iHkQ4umE</td>\n",
       "      <td>Ugy8Nho8CdyvqIxhGrp4AaABAg</td>\n",
       "      <td>Munta pissu</td>\n",
       "      <td>0.0</td>\n",
       "      <td>Munta pissu</td>\n",
       "    </tr>\n",
       "    <tr>\n",
       "      <th>2219421</th>\n",
       "      <td>K24iHkQ4umE</td>\n",
       "      <td>UgznIvU5IsXZLk21XXx4AaABAg</td>\n",
       "      <td>Chathura hora</td>\n",
       "      <td>2.0</td>\n",
       "      <td>Chathura hora</td>\n",
       "    </tr>\n",
       "  </tbody>\n",
       "</table>\n",
       "<p>11535 rows × 5 columns</p>\n",
       "</div>"
      ],
      "text/plain": [
       "                 vid                         uid                content  \\\n",
       "195      G6mag86ktZA  UgzS4TRZGsdpRPPf41F4AaABAg   \"Nothings cheating!\"   \n",
       "292      G6mag86ktZA  UgwmX0s5-Zidb_00KAF4AaABAg               Remember   \n",
       "2441     tXyYbsHkYEs  UgwpBY7um-kO2HA_ITR4AaABAg           Kriti slayed   \n",
       "2450     tXyYbsHkYEs  UgwVu0O-HZEkN6mXUml4AaABAg                Wow....   \n",
       "2503     tXyYbsHkYEs  UgxIDhUO_nTd8X2v9S94AaABAg  Absolutely stunning 🤩   \n",
       "...              ...                         ...                    ...   \n",
       "2219359  K24iHkQ4umE  UgxXrCFpbElLC6GpUQR4AaABAg          Chathura hora   \n",
       "2219406  K24iHkQ4umE  UgwH4GdvxLei3OhgNDp4AaABAg            emathi baba   \n",
       "2219413  K24iHkQ4umE  UgzrNOqFM2pTu2bOaBB4AaABAg             para ballo   \n",
       "2219414  K24iHkQ4umE  Ugy8Nho8CdyvqIxhGrp4AaABAg            Munta pissu   \n",
       "2219421  K24iHkQ4umE  UgznIvU5IsXZLk21XXx4AaABAg          Chathura hora   \n",
       "\n",
       "         votes            en_content  \n",
       "195       34.0  \"Nothings cheating!\"  \n",
       "292        7.0              Remember  \n",
       "2441      15.0          Kriti slayed  \n",
       "2450      13.0               Wow....  \n",
       "2503       7.0   Absolutely stunning  \n",
       "...        ...                   ...  \n",
       "2219359    3.0         Chathura hora  \n",
       "2219406    0.0           emathi baba  \n",
       "2219413    0.0            para ballo  \n",
       "2219414    0.0           Munta pissu  \n",
       "2219421    2.0         Chathura hora  \n",
       "\n",
       "[11535 rows x 5 columns]"
      ]
     },
     "execution_count": 178,
     "metadata": {},
     "output_type": "execute_result"
    }
   ],
   "source": [
    "comment_df[content_word_count <= 2]"
   ]
  },
  {
   "cell_type": "code",
   "execution_count": 39,
   "id": "a4e6f0bb",
   "metadata": {
    "scrolled": true
   },
   "outputs": [],
   "source": [
    "comment_df = comment_df[(content_word_count<=30) & (content_word_count>1)]"
   ]
  },
  {
   "cell_type": "markdown",
   "id": "45e44d28",
   "metadata": {},
   "source": [
    "### 2.3.3 remove ['music']\n",
    "要不删了吧 直接把trnscript 太少的删掉"
   ]
  },
  {
   "cell_type": "code",
   "execution_count": 40,
   "id": "9795ce0c",
   "metadata": {},
   "outputs": [],
   "source": [
    "for file in os.listdir(TRANSCRIPT_FOLDER):\n",
    "    if file == '.DS_Store':\n",
    "        continue\n",
    "    path = os.path.join(TRANSCRIPT_FOLDER, file)\n",
    "    with open(path, 'r')as f:\n",
    "        reader = csv.reader(f)\n",
    "        contents = []\n",
    "        count_music = 0\n",
    "        count_text = 0\n",
    "        for line in reader:\n",
    "            content = line[3]\n",
    "            if content == '[Music]':\n",
    "                count_music += 1\n",
    "            else:\n",
    "                count_text += 1 \n",
    "            contents.append(content)\n",
    "        if count_music>count_text*1.5:\n",
    "            shutil.move(path, 'InitDataset/deletedTranscripts/'+file)\n",
    "        \n",
    "        "
   ]
  },
  {
   "cell_type": "code",
   "execution_count": 41,
   "id": "b55e9208",
   "metadata": {},
   "outputs": [],
   "source": [
    "# 全部的筛选完成 整合\n",
    "# 再次去除info/comment/transcript 任一为空的所有信息\n",
    "transcript_vids = set(file.split('.')[0]for file in os.listdir(TRANSCRIPT_FOLDER))\n",
    "vids = set(info_df['vid']) & set(comment_df['vid']) & transcript_vids\n",
    "\n",
    "info_df = info_df[info_df['vid'].isin(vids)].drop_duplicates(['vid'])\n",
    "comment_df = comment_df[comment_df['vid'].isin(vids)].drop_duplicates(['vid', 'en_content'])\n",
    "for file in os.listdir(TRANSCRIPT_FOLDER):\n",
    "    vid = file.split('.')[0]\n",
    "    path = os.path.join(TRANSCRIPT_FOLDER, file)\n",
    "    if vid not in vids:\n",
    "        shutil.move(path, 'InitDataset/deletedTranscripts/'+file)\n"
   ]
  },
  {
   "cell_type": "code",
   "execution_count": 42,
   "id": "ab4fdbb8",
   "metadata": {
    "scrolled": true
   },
   "outputs": [
    {
     "name": "stdout",
     "output_type": "stream",
     "text": [
      "Count:\n",
      "Information: 2949\n",
      "Comments: 195440\n",
      "Transcript: 2949\n"
     ]
    }
   ],
   "source": [
    "print('Count:')\n",
    "print('Information: {}'.format(info_df.shape[0]))\n",
    "print('Comments: {}'.format(comment_df.shape[0]))\n",
    "print('Transcript: {}'.format(len(os.listdir(TRANSCRIPT_FOLDER))))"
   ]
  },
  {
   "cell_type": "code",
   "execution_count": 47,
   "id": "7b5fcec8",
   "metadata": {},
   "outputs": [],
   "source": [
    "info_df.to_csv('cleaned/infos.csv',index = None)\n",
    "comment_df.to_csv('cleaned/comments.csv',index = None)"
   ]
  },
  {
   "cell_type": "markdown",
   "id": "b3f34c11",
   "metadata": {},
   "source": [
    "# 3. DataProfile"
   ]
  },
  {
   "cell_type": "code",
   "execution_count": 48,
   "id": "871cecec",
   "metadata": {},
   "outputs": [
    {
     "data": {
      "text/html": [
       "<div>\n",
       "<style scoped>\n",
       "    .dataframe tbody tr th:only-of-type {\n",
       "        vertical-align: middle;\n",
       "    }\n",
       "\n",
       "    .dataframe tbody tr th {\n",
       "        vertical-align: top;\n",
       "    }\n",
       "\n",
       "    .dataframe thead th {\n",
       "        text-align: right;\n",
       "    }\n",
       "</style>\n",
       "<table border=\"1\" class=\"dataframe\">\n",
       "  <thead>\n",
       "    <tr style=\"text-align: right;\">\n",
       "      <th></th>\n",
       "      <th>vid</th>\n",
       "      <th>title</th>\n",
       "      <th>duration</th>\n",
       "      <th>views</th>\n",
       "      <th>tag</th>\n",
       "      <th>duration_min</th>\n",
       "      <th>view_10k</th>\n",
       "    </tr>\n",
       "  </thead>\n",
       "  <tbody>\n",
       "    <tr>\n",
       "      <th>0</th>\n",
       "      <td>G6mag86ktZA</td>\n",
       "      <td>Is there such a thing as Cheating in Art?</td>\n",
       "      <td>52.0</td>\n",
       "      <td>1660431.0</td>\n",
       "      <td>Art</td>\n",
       "      <td>0.866667</td>\n",
       "      <td>166.0431</td>\n",
       "    </tr>\n",
       "    <tr>\n",
       "      <th>1</th>\n",
       "      <td>zCe72UH4Mto</td>\n",
       "      <td>Food Storage Tour For Family Of 14  shorts</td>\n",
       "      <td>60.0</td>\n",
       "      <td>357259.0</td>\n",
       "      <td>Food</td>\n",
       "      <td>1.000000</td>\n",
       "      <td>35.7259</td>\n",
       "    </tr>\n",
       "    <tr>\n",
       "      <th>2</th>\n",
       "      <td>gspByZ11jjo</td>\n",
       "      <td>FASHION PHOTO RUVIEW: Drag Race: All Stars Sea...</td>\n",
       "      <td>904.0</td>\n",
       "      <td>455895.0</td>\n",
       "      <td>Fashion</td>\n",
       "      <td>15.066667</td>\n",
       "      <td>45.5895</td>\n",
       "    </tr>\n",
       "    <tr>\n",
       "      <th>3</th>\n",
       "      <td>YAcVMBJewfI</td>\n",
       "      <td>Best Pancake Art Wins 5,000 Challenge!</td>\n",
       "      <td>777.0</td>\n",
       "      <td>3562379.0</td>\n",
       "      <td>Art</td>\n",
       "      <td>12.950000</td>\n",
       "      <td>356.2379</td>\n",
       "    </tr>\n",
       "    <tr>\n",
       "      <th>4</th>\n",
       "      <td>tXyYbsHkYEs</td>\n",
       "      <td>Nooraniyat, 2021  A Manish Malhotra Couture Fa...</td>\n",
       "      <td>212.0</td>\n",
       "      <td>841491.0</td>\n",
       "      <td>Fashion</td>\n",
       "      <td>3.533333</td>\n",
       "      <td>84.1491</td>\n",
       "    </tr>\n",
       "    <tr>\n",
       "      <th>...</th>\n",
       "      <td>...</td>\n",
       "      <td>...</td>\n",
       "      <td>...</td>\n",
       "      <td>...</td>\n",
       "      <td>...</td>\n",
       "      <td>...</td>\n",
       "      <td>...</td>\n",
       "    </tr>\n",
       "    <tr>\n",
       "      <th>3040</th>\n",
       "      <td>2XL61p2E7lw</td>\n",
       "      <td>Chelsea agree 47.5m fee with Manchester City f...</td>\n",
       "      <td>172.0</td>\n",
       "      <td>217568.0</td>\n",
       "      <td>Sport</td>\n",
       "      <td>2.866667</td>\n",
       "      <td>21.7568</td>\n",
       "    </tr>\n",
       "    <tr>\n",
       "      <th>3041</th>\n",
       "      <td>MSSi4DoxFFk</td>\n",
       "      <td>I Made a LifeSize Tech Deck!</td>\n",
       "      <td>721.0</td>\n",
       "      <td>1180289.0</td>\n",
       "      <td>Tech</td>\n",
       "      <td>12.016667</td>\n",
       "      <td>118.0289</td>\n",
       "    </tr>\n",
       "    <tr>\n",
       "      <th>3042</th>\n",
       "      <td>oQyts-evKyY</td>\n",
       "      <td>WHO DRAWS IT BETTER TAKES THE PRIZE  Cool Art ...</td>\n",
       "      <td>1029.0</td>\n",
       "      <td>1281112.0</td>\n",
       "      <td>Art</td>\n",
       "      <td>17.150000</td>\n",
       "      <td>128.1112</td>\n",
       "    </tr>\n",
       "    <tr>\n",
       "      <th>3043</th>\n",
       "      <td>w15pCPU2-cA</td>\n",
       "      <td>Nothing Phone (1) Indian Retail Unit Unboxing ...</td>\n",
       "      <td>806.0</td>\n",
       "      <td>2809943.0</td>\n",
       "      <td>Tech</td>\n",
       "      <td>13.433333</td>\n",
       "      <td>280.9943</td>\n",
       "    </tr>\n",
       "    <tr>\n",
       "      <th>3044</th>\n",
       "      <td>_1AjMAPtmtQ</td>\n",
       "      <td>Japan swelters in its worst heatwave ever reco...</td>\n",
       "      <td>178.0</td>\n",
       "      <td>1343490.0</td>\n",
       "      <td>News</td>\n",
       "      <td>2.966667</td>\n",
       "      <td>134.3490</td>\n",
       "    </tr>\n",
       "  </tbody>\n",
       "</table>\n",
       "<p>2949 rows × 7 columns</p>\n",
       "</div>"
      ],
      "text/plain": [
       "              vid                                              title  \\\n",
       "0     G6mag86ktZA          Is there such a thing as Cheating in Art?   \n",
       "1     zCe72UH4Mto         Food Storage Tour For Family Of 14  shorts   \n",
       "2     gspByZ11jjo  FASHION PHOTO RUVIEW: Drag Race: All Stars Sea...   \n",
       "3     YAcVMBJewfI             Best Pancake Art Wins 5,000 Challenge!   \n",
       "4     tXyYbsHkYEs  Nooraniyat, 2021  A Manish Malhotra Couture Fa...   \n",
       "...           ...                                                ...   \n",
       "3040  2XL61p2E7lw  Chelsea agree 47.5m fee with Manchester City f...   \n",
       "3041  MSSi4DoxFFk                       I Made a LifeSize Tech Deck!   \n",
       "3042  oQyts-evKyY  WHO DRAWS IT BETTER TAKES THE PRIZE  Cool Art ...   \n",
       "3043  w15pCPU2-cA  Nothing Phone (1) Indian Retail Unit Unboxing ...   \n",
       "3044  _1AjMAPtmtQ  Japan swelters in its worst heatwave ever reco...   \n",
       "\n",
       "      duration      views      tag  duration_min  view_10k  \n",
       "0         52.0  1660431.0      Art      0.866667  166.0431  \n",
       "1         60.0   357259.0     Food      1.000000   35.7259  \n",
       "2        904.0   455895.0  Fashion     15.066667   45.5895  \n",
       "3        777.0  3562379.0      Art     12.950000  356.2379  \n",
       "4        212.0   841491.0  Fashion      3.533333   84.1491  \n",
       "...        ...        ...      ...           ...       ...  \n",
       "3040     172.0   217568.0    Sport      2.866667   21.7568  \n",
       "3041     721.0  1180289.0     Tech     12.016667  118.0289  \n",
       "3042    1029.0  1281112.0      Art     17.150000  128.1112  \n",
       "3043     806.0  2809943.0     Tech     13.433333  280.9943  \n",
       "3044     178.0  1343490.0     News      2.966667  134.3490  \n",
       "\n",
       "[2949 rows x 7 columns]"
      ]
     },
     "execution_count": 48,
     "metadata": {},
     "output_type": "execute_result"
    }
   ],
   "source": [
    "info_df"
   ]
  },
  {
   "cell_type": "code",
   "execution_count": 49,
   "id": "cc804863",
   "metadata": {},
   "outputs": [],
   "source": [
    "from matplotlib import pyplot as plt\n",
    "# comment_df = pd.read_csv('cleaned/comments.csv')\n",
    "# info_df = pd.read_csv('cleaned/infos.csv')"
   ]
  },
  {
   "cell_type": "markdown",
   "id": "46bb194c",
   "metadata": {},
   "source": [
    "## 3.1 Information"
   ]
  },
  {
   "cell_type": "code",
   "execution_count": 50,
   "id": "9a083c3c",
   "metadata": {},
   "outputs": [
    {
     "data": {
      "text/html": [
       "<div>\n",
       "<style scoped>\n",
       "    .dataframe tbody tr th:only-of-type {\n",
       "        vertical-align: middle;\n",
       "    }\n",
       "\n",
       "    .dataframe tbody tr th {\n",
       "        vertical-align: top;\n",
       "    }\n",
       "\n",
       "    .dataframe thead th {\n",
       "        text-align: right;\n",
       "    }\n",
       "</style>\n",
       "<table border=\"1\" class=\"dataframe\">\n",
       "  <thead>\n",
       "    <tr style=\"text-align: right;\">\n",
       "      <th></th>\n",
       "      <th>duration</th>\n",
       "      <th>views</th>\n",
       "      <th>duration_min</th>\n",
       "      <th>view_10k</th>\n",
       "    </tr>\n",
       "  </thead>\n",
       "  <tbody>\n",
       "    <tr>\n",
       "      <th>count</th>\n",
       "      <td>2949.000000</td>\n",
       "      <td>2.949000e+03</td>\n",
       "      <td>2949.000000</td>\n",
       "      <td>2949.000000</td>\n",
       "    </tr>\n",
       "    <tr>\n",
       "      <th>mean</th>\n",
       "      <td>665.162767</td>\n",
       "      <td>1.488720e+07</td>\n",
       "      <td>11.086046</td>\n",
       "      <td>1488.719776</td>\n",
       "    </tr>\n",
       "    <tr>\n",
       "      <th>std</th>\n",
       "      <td>418.541528</td>\n",
       "      <td>1.421555e+08</td>\n",
       "      <td>6.975692</td>\n",
       "      <td>14215.552333</td>\n",
       "    </tr>\n",
       "    <tr>\n",
       "      <th>min</th>\n",
       "      <td>13.000000</td>\n",
       "      <td>1.062000e+03</td>\n",
       "      <td>0.216667</td>\n",
       "      <td>0.106200</td>\n",
       "    </tr>\n",
       "    <tr>\n",
       "      <th>25%</th>\n",
       "      <td>315.000000</td>\n",
       "      <td>1.603660e+05</td>\n",
       "      <td>5.250000</td>\n",
       "      <td>16.036600</td>\n",
       "    </tr>\n",
       "    <tr>\n",
       "      <th>50%</th>\n",
       "      <td>598.000000</td>\n",
       "      <td>7.321510e+05</td>\n",
       "      <td>9.966667</td>\n",
       "      <td>73.215100</td>\n",
       "    </tr>\n",
       "    <tr>\n",
       "      <th>75%</th>\n",
       "      <td>938.000000</td>\n",
       "      <td>2.752324e+06</td>\n",
       "      <td>15.633333</td>\n",
       "      <td>275.232400</td>\n",
       "    </tr>\n",
       "    <tr>\n",
       "      <th>max</th>\n",
       "      <td>1800.000000</td>\n",
       "      <td>3.613883e+09</td>\n",
       "      <td>30.000000</td>\n",
       "      <td>361388.324800</td>\n",
       "    </tr>\n",
       "  </tbody>\n",
       "</table>\n",
       "</div>"
      ],
      "text/plain": [
       "          duration         views  duration_min       view_10k\n",
       "count  2949.000000  2.949000e+03   2949.000000    2949.000000\n",
       "mean    665.162767  1.488720e+07     11.086046    1488.719776\n",
       "std     418.541528  1.421555e+08      6.975692   14215.552333\n",
       "min      13.000000  1.062000e+03      0.216667       0.106200\n",
       "25%     315.000000  1.603660e+05      5.250000      16.036600\n",
       "50%     598.000000  7.321510e+05      9.966667      73.215100\n",
       "75%     938.000000  2.752324e+06     15.633333     275.232400\n",
       "max    1800.000000  3.613883e+09     30.000000  361388.324800"
      ]
     },
     "execution_count": 50,
     "metadata": {},
     "output_type": "execute_result"
    }
   ],
   "source": [
    "info_df.describe()"
   ]
  },
  {
   "cell_type": "code",
   "execution_count": 51,
   "id": "799fd00b",
   "metadata": {},
   "outputs": [
    {
     "data": {
      "image/png": "[encoded data removed]",
      "text/plain": [
       "<Figure size 432x288 with 1 Axes>"
      ]
     },
     "metadata": {},
     "output_type": "display_data"
    }
   ],
   "source": [
    "# tag distribution\n",
    "tags = info_df['tag'].value_counts()\n",
    "plt.pie(tags, labels=tags.index, autopct='%1.1f%%')\n",
    "plt.show()"
   ]
  },
  {
   "cell_type": "code",
   "execution_count": 52,
   "id": "2a7c44f8",
   "metadata": {},
   "outputs": [
    {
     "data": {
      "text/plain": [
       "<AxesSubplot:>"
      ]
     },
     "execution_count": 52,
     "metadata": {},
     "output_type": "execute_result"
    },
    {
     "data": {
      "image/png": "[encoded data removed]",
      "text/plain": [
       "<Figure size 432x288 with 1 Axes>"
      ]
     },
     "metadata": {
      "needs_background": "light"
     },
     "output_type": "display_data"
    }
   ],
   "source": [
    "# duration\n",
    "durations = info_df['duration_min'].value_counts()\n",
    "durations.hist()"
   ]
  },
  {
   "cell_type": "code",
   "execution_count": 53,
   "id": "c10a05d4",
   "metadata": {
    "scrolled": true
   },
   "outputs": [
    {
     "data": {
      "text/plain": [
       "<AxesSubplot:>"
      ]
     },
     "execution_count": 53,
     "metadata": {},
     "output_type": "execute_result"
    },
    {
     "data": {
      "image/png": "[encoded data removed]",
      "text/plain": [
       "<Figure size 432x288 with 1 Axes>"
      ]
     },
     "metadata": {
      "needs_background": "light"
     },
     "output_type": "display_data"
    }
   ],
   "source": [
    "# views\n",
    "info_df['view_10k'].hist()"
   ]
  },
  {
   "cell_type": "markdown",
   "id": "9c2eaede",
   "metadata": {},
   "source": [
    "## 3.2 Comment"
   ]
  },
  {
   "cell_type": "code",
   "execution_count": 54,
   "id": "c670ac0c",
   "metadata": {},
   "outputs": [
    {
     "data": {
      "text/plain": [
       "count    2949.000000\n",
       "mean       66.273313\n",
       "std        23.644169\n",
       "min         1.000000\n",
       "25%        54.000000\n",
       "50%        72.000000\n",
       "75%        84.000000\n",
       "max       120.000000\n",
       "Name: vid, dtype: float64"
      ]
     },
     "execution_count": 54,
     "metadata": {},
     "output_type": "execute_result"
    }
   ],
   "source": [
    "# comments count per video\n",
    "# average 66 comments per video\n",
    "comment_df['vid'].value_counts().describe()"
   ]
  },
  {
   "cell_type": "code",
   "execution_count": 55,
   "id": "00b596c0",
   "metadata": {},
   "outputs": [
    {
     "data": {
      "text/plain": [
       "<AxesSubplot:>"
      ]
     },
     "execution_count": 55,
     "metadata": {},
     "output_type": "execute_result"
    },
    {
     "data": {
      "image/png": "[encoded data removed]",
      "text/plain": [
       "<Figure size 432x288 with 1 Axes>"
      ]
     },
     "metadata": {
      "needs_background": "light"
     },
     "output_type": "display_data"
    }
   ],
   "source": [
    "comment_df['vid'].value_counts().hist()"
   ]
  },
  {
   "cell_type": "code",
   "execution_count": 56,
   "id": "1d20483d",
   "metadata": {},
   "outputs": [
    {
     "data": {
      "text/plain": [
       "count    193982.000000\n",
       "mean          1.007516\n",
       "std           0.086370\n",
       "min           1.000000\n",
       "25%           1.000000\n",
       "50%           1.000000\n",
       "75%           1.000000\n",
       "max           2.000000\n",
       "Name: uid, dtype: float64"
      ]
     },
     "execution_count": 56,
     "metadata": {},
     "output_type": "execute_result"
    }
   ],
   "source": [
    "# uid\n",
    "comment_df['uid'].value_counts().describe()"
   ]
  },
  {
   "cell_type": "code",
   "execution_count": 57,
   "id": "11d3e030",
   "metadata": {
    "scrolled": true
   },
   "outputs": [
    {
     "data": {
      "text/plain": [
       "<AxesSubplot:>"
      ]
     },
     "execution_count": 57,
     "metadata": {},
     "output_type": "execute_result"
    },
    {
     "data": {
      "image/png": "[encoded data removed]",
      "text/plain": [
       "<Figure size 432x288 with 1 Axes>"
      ]
     },
     "metadata": {
      "needs_background": "light"
     },
     "output_type": "display_data"
    }
   ],
   "source": [
    "# votes\n",
    "comment_df[comment_df.votes<50]['votes'].hist()"
   ]
  },
  {
   "cell_type": "code",
   "execution_count": 58,
   "id": "9fefc661",
   "metadata": {
    "scrolled": true
   },
   "outputs": [
    {
     "data": {
      "text/plain": [
       "I love this channel                                                               10\n",
       "If you don't build your dream someone else will hire you to help build theirs.     9\n",
       "Good job                                                                           9\n",
       "Great job                                                                          9\n",
       "Despite the economic downturn,I'm so happy                                         9\n",
       "Thank you.                                                                         9\n",
       "Jai Hind  sir                                                                      9\n",
       "Love your vids                                                                     9\n",
       "Very beautiful                                                                     9\n",
       "O nation of Muhammad                                                               8\n",
       "Name: en_content, dtype: int64"
      ]
     },
     "execution_count": 58,
     "metadata": {},
     "output_type": "execute_result"
    }
   ],
   "source": [
    "# contents\n",
    "comment_df['en_content'].value_counts().head(10)"
   ]
  },
  {
   "cell_type": "markdown",
   "id": "1d5d2574",
   "metadata": {},
   "source": [
    "## 3.3 Transcript"
   ]
  },
  {
   "cell_type": "code",
   "execution_count": 59,
   "id": "d474d3d4",
   "metadata": {},
   "outputs": [],
   "source": [
    "# word count\n",
    "pass"
   ]
  },
  {
   "cell_type": "markdown",
   "id": "310351d0",
   "metadata": {},
   "source": [
    "# 各tag的综合分析\n",
    "检查不同tag的平均时长/transcript字数/评论数/有没有区别"
   ]
  },
  {
   "cell_type": "code",
   "execution_count": 60,
   "id": "09fbd390",
   "metadata": {
    "scrolled": true
   },
   "outputs": [
    {
     "name": "stdout",
     "output_type": "stream",
     "text": [
      "==================================================\n",
      "Tech\n",
      "12.717826460481099\n",
      "==================================================\n",
      "Food\n",
      "11.539589302769818\n",
      "==================================================\n",
      "Game\n",
      "10.468824940047961\n",
      "==================================================\n",
      "Art\n",
      "10.74567901234568\n",
      "==================================================\n",
      "Motivation\n",
      "9.391201716738196\n",
      "==================================================\n",
      "Fashion\n",
      "11.826652298850577\n",
      "==================================================\n",
      "Sport\n",
      "9.751382488479264\n",
      "==================================================\n",
      "Vlog\n",
      "13.551184834123223\n",
      "==================================================\n",
      "News\n",
      "9.00897435897436\n",
      "==================================================\n",
      "Entertainment\n",
      "8.447970085470088\n",
      "==================================================\n",
      "Music\n",
      "4.15021645021645\n",
      "==================================================\n",
      "Education\n",
      "9.355426356589149\n"
     ]
    }
   ],
   "source": [
    "for tag in tags.index:\n",
    "    print('='*50)\n",
    "    print(tag)\n",
    "    print(info_df[info_df.tag == tag]['duration_min'].mean())"
   ]
  },
  {
   "cell_type": "markdown",
   "id": "18e99ede",
   "metadata": {},
   "source": []
  },
  {
   "cell_type": "code",
   "execution_count": 88,
   "id": "3cc84cd9",
   "metadata": {},
   "outputs": [],
   "source": [
    "for file in os.listdir('Cleaned/Transcripts/'):\n",
    "    if not file.endswith('.csv'):\n",
    "        continue\n",
    "    path = os.path.join('Cleaned/Transcripts',file)\n",
    "    vid = file.split('.')[0]\n",
    "    transcript = pd.read_csv(path)\n",
    "    texts = ' '.join(transcript['text'])\n",
    "    with open('Cleaned/Transcripts-txt/'+vid+'.txt', 'w')as f:\n",
    "        f.write(texts)\n",
    "    "
   ]
  },
  {
   "cell_type": "code",
   "execution_count": 89,
   "id": "55f7a56b",
   "metadata": {},
   "outputs": [],
   "source": [
    "DATASET_PATH = 'Cleaned/'\n",
    "TRANSCRIPT_PATH = 'Cleaned/Transcripts-txt/'\n",
    "INFO_PATH = 'Cleaned/infos.csv'\n",
    "COMMENT_PATH = 'Cleaned/comments.csv'"
   ]
  },
  {
   "cell_type": "code",
   "execution_count": 94,
   "id": "568ab4e8",
   "metadata": {},
   "outputs": [],
   "source": [
    "info_df = pd.read_csv(INFO_PATH)\n",
    "comment_df = pd.read_csv(COMMENT_PATH)"
   ]
  },
  {
   "cell_type": "code",
   "execution_count": 91,
   "id": "c0cb0ed9",
   "metadata": {},
   "outputs": [],
   "source": [
    "info_df = info_df[['vid','title']]\n",
    "comment_df = comment_df[['vid','en_content']]\n",
    "data = pd.merge(info_df, comment_df, how=\"inner\", on='vid')"
   ]
  },
  {
   "cell_type": "code",
   "execution_count": 92,
   "id": "2d2f980d",
   "metadata": {},
   "outputs": [],
   "source": [
    "def get_transcript(vid):\n",
    "    file = TRANSCRIPT_PATH+vid+'.txt'\n",
    "    with open(file, 'r')as f:\n",
    "        return f.read()\n",
    "    \n",
    "data['transcript'] = data['vid'].apply(get_transcript)"
   ]
  },
  {
   "cell_type": "code",
   "execution_count": 93,
   "id": "7bc6d564",
   "metadata": {
    "scrolled": true
   },
   "outputs": [
    {
     "data": {
      "text/html": [
       "<div>\n",
       "<style scoped>\n",
       "    .dataframe tbody tr th:only-of-type {\n",
       "        vertical-align: middle;\n",
       "    }\n",
       "\n",
       "    .dataframe tbody tr th {\n",
       "        vertical-align: top;\n",
       "    }\n",
       "\n",
       "    .dataframe thead th {\n",
       "        text-align: right;\n",
       "    }\n",
       "</style>\n",
       "<table border=\"1\" class=\"dataframe\">\n",
       "  <thead>\n",
       "    <tr style=\"text-align: right;\">\n",
       "      <th></th>\n",
       "      <th>vid</th>\n",
       "      <th>title</th>\n",
       "      <th>en_content</th>\n",
       "      <th>transcript</th>\n",
       "    </tr>\n",
       "  </thead>\n",
       "  <tbody>\n",
       "    <tr>\n",
       "      <th>0</th>\n",
       "      <td>G6mag86ktZA</td>\n",
       "      <td>Is there such a thing as Cheating in Art?</td>\n",
       "      <td>The only thing cheating in art is claiming an ...</td>\n",
       "      <td>okay we need to talk about cheating and art ev...</td>\n",
       "    </tr>\n",
       "    <tr>\n",
       "      <th>1</th>\n",
       "      <td>G6mag86ktZA</td>\n",
       "      <td>Is there such a thing as Cheating in Art?</td>\n",
       "      <td>\"There is no cheating in art\"</td>\n",
       "      <td>okay we need to talk about cheating and art ev...</td>\n",
       "    </tr>\n",
       "    <tr>\n",
       "      <th>2</th>\n",
       "      <td>G6mag86ktZA</td>\n",
       "      <td>Is there such a thing as Cheating in Art?</td>\n",
       "      <td>Dont listen to ppl you never met on the internet</td>\n",
       "      <td>okay we need to talk about cheating and art ev...</td>\n",
       "    </tr>\n",
       "    <tr>\n",
       "      <th>3</th>\n",
       "      <td>G6mag86ktZA</td>\n",
       "      <td>Is there such a thing as Cheating in Art?</td>\n",
       "      <td>Also tracing can help you get used to differen...</td>\n",
       "      <td>okay we need to talk about cheating and art ev...</td>\n",
       "    </tr>\n",
       "    <tr>\n",
       "      <th>4</th>\n",
       "      <td>G6mag86ktZA</td>\n",
       "      <td>Is there such a thing as Cheating in Art?</td>\n",
       "      <td>\"There's only one rule and that is to have fun.\"</td>\n",
       "      <td>okay we need to talk about cheating and art ev...</td>\n",
       "    </tr>\n",
       "    <tr>\n",
       "      <th>...</th>\n",
       "      <td>...</td>\n",
       "      <td>...</td>\n",
       "      <td>...</td>\n",
       "      <td>...</td>\n",
       "    </tr>\n",
       "    <tr>\n",
       "      <th>195435</th>\n",
       "      <td>_1AjMAPtmtQ</td>\n",
       "      <td>Japan swelters in its worst heatwave ever reco...</td>\n",
       "      <td>Its definitely worrying that climate change is...</td>\n",
       "      <td>in japan we've been telling you about the unpr...</td>\n",
       "    </tr>\n",
       "    <tr>\n",
       "      <th>195436</th>\n",
       "      <td>_1AjMAPtmtQ</td>\n",
       "      <td>Japan swelters in its worst heatwave ever reco...</td>\n",
       "      <td>Last year in western Oregon it was 117F or 47C...</td>\n",
       "      <td>in japan we've been telling you about the unpr...</td>\n",
       "    </tr>\n",
       "    <tr>\n",
       "      <th>195437</th>\n",
       "      <td>_1AjMAPtmtQ</td>\n",
       "      <td>Japan swelters in its worst heatwave ever reco...</td>\n",
       "      <td>I'm fine in a dry 110115F climate, but I canno...</td>\n",
       "      <td>in japan we've been telling you about the unpr...</td>\n",
       "    </tr>\n",
       "    <tr>\n",
       "      <th>195438</th>\n",
       "      <td>_1AjMAPtmtQ</td>\n",
       "      <td>Japan swelters in its worst heatwave ever reco...</td>\n",
       "      <td>I ain't seen our allies go through this of eve...</td>\n",
       "      <td>in japan we've been telling you about the unpr...</td>\n",
       "    </tr>\n",
       "    <tr>\n",
       "      <th>195439</th>\n",
       "      <td>_1AjMAPtmtQ</td>\n",
       "      <td>Japan swelters in its worst heatwave ever reco...</td>\n",
       "      <td>The most powerful heatwave ever recorder in Ja...</td>\n",
       "      <td>in japan we've been telling you about the unpr...</td>\n",
       "    </tr>\n",
       "  </tbody>\n",
       "</table>\n",
       "<p>195440 rows × 4 columns</p>\n",
       "</div>"
      ],
      "text/plain": [
       "                vid                                              title  \\\n",
       "0       G6mag86ktZA          Is there such a thing as Cheating in Art?   \n",
       "1       G6mag86ktZA          Is there such a thing as Cheating in Art?   \n",
       "2       G6mag86ktZA          Is there such a thing as Cheating in Art?   \n",
       "3       G6mag86ktZA          Is there such a thing as Cheating in Art?   \n",
       "4       G6mag86ktZA          Is there such a thing as Cheating in Art?   \n",
       "...             ...                                                ...   \n",
       "195435  _1AjMAPtmtQ  Japan swelters in its worst heatwave ever reco...   \n",
       "195436  _1AjMAPtmtQ  Japan swelters in its worst heatwave ever reco...   \n",
       "195437  _1AjMAPtmtQ  Japan swelters in its worst heatwave ever reco...   \n",
       "195438  _1AjMAPtmtQ  Japan swelters in its worst heatwave ever reco...   \n",
       "195439  _1AjMAPtmtQ  Japan swelters in its worst heatwave ever reco...   \n",
       "\n",
       "                                               en_content  \\\n",
       "0       The only thing cheating in art is claiming an ...   \n",
       "1                           \"There is no cheating in art\"   \n",
       "2        Dont listen to ppl you never met on the internet   \n",
       "3       Also tracing can help you get used to differen...   \n",
       "4        \"There's only one rule and that is to have fun.\"   \n",
       "...                                                   ...   \n",
       "195435  Its definitely worrying that climate change is...   \n",
       "195436  Last year in western Oregon it was 117F or 47C...   \n",
       "195437  I'm fine in a dry 110115F climate, but I canno...   \n",
       "195438  I ain't seen our allies go through this of eve...   \n",
       "195439  The most powerful heatwave ever recorder in Ja...   \n",
       "\n",
       "                                               transcript  \n",
       "0       okay we need to talk about cheating and art ev...  \n",
       "1       okay we need to talk about cheating and art ev...  \n",
       "2       okay we need to talk about cheating and art ev...  \n",
       "3       okay we need to talk about cheating and art ev...  \n",
       "4       okay we need to talk about cheating and art ev...  \n",
       "...                                                   ...  \n",
       "195435  in japan we've been telling you about the unpr...  \n",
       "195436  in japan we've been telling you about the unpr...  \n",
       "195437  in japan we've been telling you about the unpr...  \n",
       "195438  in japan we've been telling you about the unpr...  \n",
       "195439  in japan we've been telling you about the unpr...  \n",
       "\n",
       "[195440 rows x 4 columns]"
      ]
     },
     "execution_count": 93,
     "metadata": {},
     "output_type": "execute_result"
    }
   ],
   "source": [
    "data"
   ]
  },
  {
   "cell_type": "code",
   "execution_count": 83,
   "id": "a1e9d1f1",
   "metadata": {},
   "outputs": [],
   "source": [
    "data.to_csv('Cleaned/data.csv')"
   ]
  },
  {
   "cell_type": "code",
   "execution_count": 95,
   "id": "277055fc",
   "metadata": {},
   "outputs": [
    {
     "name": "stderr",
     "output_type": "stream",
     "text": [
      "<ipython-input-95-80ff38c01aa2>:2: SettingWithCopyWarning: \n",
      "A value is trying to be set on a copy of a slice from a DataFrame.\n",
      "Try using .loc[row_indexer,col_indexer] = value instead\n",
      "\n",
      "See the caveats in the documentation: https://pandas.pydata.org/pandas-docs/stable/user_guide/indexing.html#returning-a-view-versus-a-copy\n",
      "  video_data['transcript'] = video_data['vid'].apply(get_transcript)\n"
     ]
    }
   ],
   "source": [
    "video_data = info_df[['vid','title','tag']]\n",
    "video_data['transcript'] = video_data['vid'].apply(get_transcript)"
   ]
  },
  {
   "cell_type": "code",
   "execution_count": 96,
   "id": "f571409b",
   "metadata": {
    "scrolled": true
   },
   "outputs": [
    {
     "data": {
      "text/html": [
       "<div>\n",
       "<style scoped>\n",
       "    .dataframe tbody tr th:only-of-type {\n",
       "        vertical-align: middle;\n",
       "    }\n",
       "\n",
       "    .dataframe tbody tr th {\n",
       "        vertical-align: top;\n",
       "    }\n",
       "\n",
       "    .dataframe thead th {\n",
       "        text-align: right;\n",
       "    }\n",
       "</style>\n",
       "<table border=\"1\" class=\"dataframe\">\n",
       "  <thead>\n",
       "    <tr style=\"text-align: right;\">\n",
       "      <th></th>\n",
       "      <th>vid</th>\n",
       "      <th>title</th>\n",
       "      <th>tag</th>\n",
       "      <th>transcript</th>\n",
       "    </tr>\n",
       "  </thead>\n",
       "  <tbody>\n",
       "    <tr>\n",
       "      <th>0</th>\n",
       "      <td>G6mag86ktZA</td>\n",
       "      <td>Is there such a thing as Cheating in Art?</td>\n",
       "      <td>Art</td>\n",
       "      <td>okay we need to talk about cheating and art ev...</td>\n",
       "    </tr>\n",
       "    <tr>\n",
       "      <th>1</th>\n",
       "      <td>zCe72UH4Mto</td>\n",
       "      <td>Food Storage Tour For Family Of 14  shorts</td>\n",
       "      <td>Food</td>\n",
       "      <td>food storage tour for my family of 14. this is...</td>\n",
       "    </tr>\n",
       "    <tr>\n",
       "      <th>2</th>\n",
       "      <td>gspByZ11jjo</td>\n",
       "      <td>FASHION PHOTO RUVIEW: Drag Race: All Stars Sea...</td>\n",
       "      <td>Fashion</td>\n",
       "      <td>hello everyone it is me violet tchotchke and w...</td>\n",
       "    </tr>\n",
       "    <tr>\n",
       "      <th>3</th>\n",
       "      <td>YAcVMBJewfI</td>\n",
       "      <td>Best Pancake Art Wins 5,000 Challenge!</td>\n",
       "      <td>Art</td>\n",
       "      <td>today we will be making pancake art and whiche...</td>\n",
       "    </tr>\n",
       "    <tr>\n",
       "      <th>4</th>\n",
       "      <td>tXyYbsHkYEs</td>\n",
       "      <td>Nooraniyat, 2021  A Manish Malhotra Couture Fa...</td>\n",
       "      <td>Fashion</td>\n",
       "      <td>but i can't help falling in love with you shal...</td>\n",
       "    </tr>\n",
       "    <tr>\n",
       "      <th>...</th>\n",
       "      <td>...</td>\n",
       "      <td>...</td>\n",
       "      <td>...</td>\n",
       "      <td>...</td>\n",
       "    </tr>\n",
       "    <tr>\n",
       "      <th>2944</th>\n",
       "      <td>2XL61p2E7lw</td>\n",
       "      <td>Chelsea agree 47.5m fee with Manchester City f...</td>\n",
       "      <td>Sport</td>\n",
       "      <td>raheem sterling is now on the verge of a move ...</td>\n",
       "    </tr>\n",
       "    <tr>\n",
       "      <th>2945</th>\n",
       "      <td>MSSi4DoxFFk</td>\n",
       "      <td>I Made a LifeSize Tech Deck!</td>\n",
       "      <td>Tech</td>\n",
       "      <td>hey yo wait what [Music] real quick before thi...</td>\n",
       "    </tr>\n",
       "    <tr>\n",
       "      <th>2946</th>\n",
       "      <td>oQyts-evKyY</td>\n",
       "      <td>WHO DRAWS IT BETTER TAKES THE PRIZE  Cool Art ...</td>\n",
       "      <td>Art</td>\n",
       "      <td>welcome to the drawing challenge and look who ...</td>\n",
       "    </tr>\n",
       "    <tr>\n",
       "      <th>2947</th>\n",
       "      <td>w15pCPU2-cA</td>\n",
       "      <td>Nothing Phone (1) Indian Retail Unit Unboxing ...</td>\n",
       "      <td>Tech</td>\n",
       "      <td>The most exciting launch of 2022 is inside thi...</td>\n",
       "    </tr>\n",
       "    <tr>\n",
       "      <th>2948</th>\n",
       "      <td>_1AjMAPtmtQ</td>\n",
       "      <td>Japan swelters in its worst heatwave ever reco...</td>\n",
       "      <td>News</td>\n",
       "      <td>in japan we've been telling you about the unpr...</td>\n",
       "    </tr>\n",
       "  </tbody>\n",
       "</table>\n",
       "<p>2949 rows × 4 columns</p>\n",
       "</div>"
      ],
      "text/plain": [
       "              vid                                              title      tag  \\\n",
       "0     G6mag86ktZA          Is there such a thing as Cheating in Art?      Art   \n",
       "1     zCe72UH4Mto         Food Storage Tour For Family Of 14  shorts     Food   \n",
       "2     gspByZ11jjo  FASHION PHOTO RUVIEW: Drag Race: All Stars Sea...  Fashion   \n",
       "3     YAcVMBJewfI             Best Pancake Art Wins 5,000 Challenge!      Art   \n",
       "4     tXyYbsHkYEs  Nooraniyat, 2021  A Manish Malhotra Couture Fa...  Fashion   \n",
       "...           ...                                                ...      ...   \n",
       "2944  2XL61p2E7lw  Chelsea agree 47.5m fee with Manchester City f...    Sport   \n",
       "2945  MSSi4DoxFFk                       I Made a LifeSize Tech Deck!     Tech   \n",
       "2946  oQyts-evKyY  WHO DRAWS IT BETTER TAKES THE PRIZE  Cool Art ...      Art   \n",
       "2947  w15pCPU2-cA  Nothing Phone (1) Indian Retail Unit Unboxing ...     Tech   \n",
       "2948  _1AjMAPtmtQ  Japan swelters in its worst heatwave ever reco...     News   \n",
       "\n",
       "                                             transcript  \n",
       "0     okay we need to talk about cheating and art ev...  \n",
       "1     food storage tour for my family of 14. this is...  \n",
       "2     hello everyone it is me violet tchotchke and w...  \n",
       "3     today we will be making pancake art and whiche...  \n",
       "4     but i can't help falling in love with you shal...  \n",
       "...                                                 ...  \n",
       "2944  raheem sterling is now on the verge of a move ...  \n",
       "2945  hey yo wait what [Music] real quick before thi...  \n",
       "2946  welcome to the drawing challenge and look who ...  \n",
       "2947  The most exciting launch of 2022 is inside thi...  \n",
       "2948  in japan we've been telling you about the unpr...  \n",
       "\n",
       "[2949 rows x 4 columns]"
      ]
     },
     "execution_count": 96,
     "metadata": {},
     "output_type": "execute_result"
    }
   ],
   "source": [
    "video_datab"
   ]
  },
  {
   "cell_type": "code",
   "execution_count": 99,
   "id": "633cdcc8",
   "metadata": {},
   "outputs": [],
   "source": [
    "comment_df[['vid', 'en_content']].to_csv('comment_data.csv')"
   ]
  },
  {
   "cell_type": "code",
   "execution_count": 97,
   "id": "826b78cf",
   "metadata": {},
   "outputs": [],
   "source": [
    "video_data.to_csv('video_data.csv')"
   ]
  }
 ],
 "metadata": {
  "kernelspec": {
   "display_name": "Python [conda env:deeplearning]",
   "language": "python",
   "name": "conda-env-deeplearning-py"
  },
  "language_info": {
   "codemirror_mode": {
    "name": "ipython",
    "version": 3
   },
   "file_extension": ".py",
   "mimetype": "text/x-python",
   "name": "python",
   "nbconvert_exporter": "python",
   "pygments_lexer": "ipython3",
   "version": "3.9.2"
  }
 },
 "nbformat": 4,
 "nbformat_minor": 5
}
