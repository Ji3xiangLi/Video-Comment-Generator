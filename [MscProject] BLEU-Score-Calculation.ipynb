{
 "cells": [
  {
   "cell_type": "code",
   "execution_count": 19,
   "id": "2311299e",
   "metadata": {},
   "outputs": [],
   "source": [
    "import torch\n",
    "import pandas as pd\n",
    "from torchtext.data.metrics import bleu_score\n",
    "from tqdm import tqdm\n",
    "\n",
    "predictions = pd.read_csv('predictions.csv')"
   ]
  },
  {
   "cell_type": "code",
   "execution_count": 2,
   "id": "0ea674f7",
   "metadata": {},
   "outputs": [],
   "source": [
    "def get_bleu_score(predictions):\n",
    "    scores = []\n",
    "    ratio = 0.5\n",
    "    data = predictions[predictions['ratio'] == ratio]\n",
    "    for vid in tqdm(predictions['vid'].unique()):\n",
    "        best_score = 0\n",
    "        outputs = data[data['vid'] == vid]['output'].astype(str).apply(lambda x: x.split())\n",
    "        comments = data[data['vid'] == vid]['comment'].astype(str).apply(lambda x: x.split())\n",
    "        for i, output in outputs.iteritems():\n",
    "            score = bleu_score([output], [list(comments)])\n",
    "            if score >= best_score:\n",
    "                best_output = output\n",
    "                best_score =  score\n",
    "        scores.append(best_score)\n",
    "    print(ratio, sum(scores)/len(scores))"
   ]
  },
  {
   "cell_type": "code",
   "execution_count": 39,
   "id": "3d20dbed",
   "metadata": {},
   "outputs": [],
   "source": [
    "def get_best_k_output(predictions, k):\n",
    "    scores = []\n",
    "    ratio = 0.5\n",
    "    model = predictions['model'].iloc[1]\n",
    "    data = predictions[predictions['ratio'] == ratio]\n",
    "    for vid in tqdm(predictions['vid'].unique()):\n",
    "        best_score = 0\n",
    "        best_outputs = []\n",
    "        outputs = data[data['vid'] == vid]['output'].astype(str).apply(lambda x: x.split())\n",
    "        comments = data[data['vid'] == vid]['comment'].astype(str).apply(lambda x: x.split())\n",
    "        for i, output in outputs.iteritems():\n",
    "            score = bleu_score([output], [list(comments)])\n",
    "            if score >= best_score:\n",
    "                best_output = output\n",
    "                best_score =  score\n",
    "                output = ' '.join(output)\n",
    "                best_outputs.append((output, score))\n",
    "        with open('best_comment.csv', 'a')as f:\n",
    "            for output, score in best_outputs[-k:]:\n",
    "                f.write(','.join([model, vid, output, str(score)]))\n",
    "                f.write('\\n')\n",
    "                \n",
    "                "
   ]
  },
  {
   "cell_type": "code",
   "execution_count": 40,
   "id": "a1d0d467",
   "metadata": {
    "scrolled": true
   },
   "outputs": [
    {
     "name": "stderr",
     "output_type": "stream",
     "text": [
      "100%|██████████| 591/591 [14:49<00:00,  1.50s/it]\n"
     ]
    }
   ],
   "source": [
    "predictions = pd.read_csv('predictions-10.csv')\n",
    "get_best_k_output(predictions, 10)"
   ]
  },
  {
   "cell_type": "code",
   "execution_count": 23,
   "id": "5a4e7eaf",
   "metadata": {},
   "outputs": [
    {
     "name": "stderr",
     "output_type": "stream",
     "text": [
      "100%|██████████| 591/591 [14:51<00:00,  1.51s/it]"
     ]
    },
    {
     "name": "stdout",
     "output_type": "stream",
     "text": [
      "0.5 0.1914617990890838\n"
     ]
    },
    {
     "name": "stderr",
     "output_type": "stream",
     "text": [
      "\n"
     ]
    }
   ],
   "source": [
    "predictions = pd.read_csv('predictions-10.csv')\n",
    "get_bleu_score(predictions)"
   ]
  },
  {
   "cell_type": "code",
   "execution_count": 120,
   "id": "d2d035b2",
   "metadata": {
    "scrolled": false
   },
   "outputs": [
    {
     "name": "stderr",
     "output_type": "stream",
     "text": [
      "100%|██████████| 591/591 [23:15<00:00,  2.36s/it]"
     ]
    },
    {
     "name": "stdout",
     "output_type": "stream",
     "text": [
      "0.5 0.18952642898187375\n"
     ]
    },
    {
     "name": "stderr",
     "output_type": "stream",
     "text": [
      "\n"
     ]
    }
   ],
   "source": [
    "se2seq_predictions = pd.read_csv('Models/Seq2seq-predictions.csv')\n",
    "get_bleu_score(se2seq_predictions)"
   ]
  }
 ],
 "metadata": {
  "kernelspec": {
   "display_name": "Python [conda env:deeplearning]",
   "language": "python",
   "name": "conda-env-deeplearning-py"
  },
  "language_info": {
   "codemirror_mode": {
    "name": "ipython",
    "version": 3
   },
   "file_extension": ".py",
   "mimetype": "text/x-python",
   "name": "python",
   "nbconvert_exporter": "python",
   "pygments_lexer": "ipython3",
   "version": "3.9.2"
  }
 },
 "nbformat": 4,
 "nbformat_minor": 5
}
